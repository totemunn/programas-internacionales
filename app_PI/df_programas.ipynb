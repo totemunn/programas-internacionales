{
 "cells": [
  {
   "cell_type": "code",
   "execution_count": 26,
   "metadata": {},
   "outputs": [],
   "source": [
    "import pandas as pd\n",
    "import numpy as np"
   ]
  },
  {
   "cell_type": "code",
   "execution_count": 27,
   "metadata": {},
   "outputs": [],
   "source": [
    "df=pd.read_csv('df_programasint2.csv')"
   ]
  },
  {
   "cell_type": "code",
   "execution_count": 28,
   "metadata": {},
   "outputs": [
    {
     "data": {
      "text/plain": [
       "Index(['Unnamed: 0', 'Instancia', 'Matrícula', 'Ap Paterno', 'Campus',\n",
       "       'Programa', 'Promedio', 'Nivel', 'Estatus', 'OportunidadAsignada',\n",
       "       'Nombre Oportunidad Asignada', 'PeriodoAcadémico', 'Clave',\n",
       "       'Programa Academico', 'Area Academica', 'Escuela', 'Opcion1',\n",
       "       'PrimerOp', 'Pais', 'Tipo', 'Continente', 'AñoIntercambio',\n",
       "       'Intercambio', 'Calificacion'],\n",
       "      dtype='object')"
      ]
     },
     "execution_count": 28,
     "metadata": {},
     "output_type": "execute_result"
    }
   ],
   "source": [
    "df.columns"
   ]
  },
  {
   "cell_type": "code",
   "execution_count": 29,
   "metadata": {},
   "outputs": [
    {
     "data": {
      "text/html": [
       "<div>\n",
       "<style scoped>\n",
       "    .dataframe tbody tr th:only-of-type {\n",
       "        vertical-align: middle;\n",
       "    }\n",
       "\n",
       "    .dataframe tbody tr th {\n",
       "        vertical-align: top;\n",
       "    }\n",
       "\n",
       "    .dataframe thead th {\n",
       "        text-align: right;\n",
       "    }\n",
       "</style>\n",
       "<table border=\"1\" class=\"dataframe\">\n",
       "  <thead>\n",
       "    <tr style=\"text-align: right;\">\n",
       "      <th></th>\n",
       "      <th>Instancia</th>\n",
       "      <th>Matrícula</th>\n",
       "      <th>Ap Paterno</th>\n",
       "      <th>Campus</th>\n",
       "      <th>Programa</th>\n",
       "      <th>Promedio</th>\n",
       "      <th>Nivel</th>\n",
       "      <th>Estatus</th>\n",
       "      <th>OportunidadAsignada</th>\n",
       "      <th>Nombre Oportunidad Asignada</th>\n",
       "      <th>...</th>\n",
       "      <th>Area Academica</th>\n",
       "      <th>Escuela</th>\n",
       "      <th>Opcion1</th>\n",
       "      <th>PrimerOp</th>\n",
       "      <th>Pais</th>\n",
       "      <th>Tipo</th>\n",
       "      <th>Continente</th>\n",
       "      <th>AñoIntercambio</th>\n",
       "      <th>Intercambio</th>\n",
       "      <th>Calificacion</th>\n",
       "    </tr>\n",
       "  </thead>\n",
       "  <tbody>\n",
       "    <tr>\n",
       "      <th>0</th>\n",
       "      <td>105934</td>\n",
       "      <td>A00793903</td>\n",
       "      <td>Fajardo</td>\n",
       "      <td>Guadalajara</td>\n",
       "      <td>MBA09</td>\n",
       "      <td>91.000</td>\n",
       "      <td>Maestría</td>\n",
       "      <td>Asignada</td>\n",
       "      <td>EUA-8DD-285</td>\n",
       "      <td>University of San Diego - Doble Grado - Doble ...</td>\n",
       "      <td>...</td>\n",
       "      <td>Negocios</td>\n",
       "      <td>Negocios</td>\n",
       "      <td>EUA-8DD-285</td>\n",
       "      <td>True</td>\n",
       "      <td>EUA</td>\n",
       "      <td>NaN</td>\n",
       "      <td>North America</td>\n",
       "      <td>2015.0</td>\n",
       "      <td>False</td>\n",
       "      <td>A</td>\n",
       "    </tr>\n",
       "    <tr>\n",
       "      <th>1</th>\n",
       "      <td>249818</td>\n",
       "      <td>A01530316</td>\n",
       "      <td>Alcaraz</td>\n",
       "      <td>EGADE Santa Fe</td>\n",
       "      <td>MBA09</td>\n",
       "      <td>95.500</td>\n",
       "      <td>Maestría</td>\n",
       "      <td>Asignada</td>\n",
       "      <td>EUA-V8SA-016A</td>\n",
       "      <td>Boston University - Study Abroad Tradicional</td>\n",
       "      <td>...</td>\n",
       "      <td>Negocios</td>\n",
       "      <td>Negocios</td>\n",
       "      <td>EUA-V8SA-016A</td>\n",
       "      <td>True</td>\n",
       "      <td>EUA</td>\n",
       "      <td>NaN</td>\n",
       "      <td>North America</td>\n",
       "      <td>2017.0</td>\n",
       "      <td>False</td>\n",
       "      <td>A</td>\n",
       "    </tr>\n",
       "    <tr>\n",
       "      <th>2</th>\n",
       "      <td>249822</td>\n",
       "      <td>A00960857</td>\n",
       "      <td>Mancillas</td>\n",
       "      <td>EGADE Santa Fe</td>\n",
       "      <td>MBA09</td>\n",
       "      <td>95.166</td>\n",
       "      <td>Maestría</td>\n",
       "      <td>Asignada</td>\n",
       "      <td>EUA-V8SA-016A</td>\n",
       "      <td>Boston University - Study Abroad Tradicional</td>\n",
       "      <td>...</td>\n",
       "      <td>Negocios</td>\n",
       "      <td>Negocios</td>\n",
       "      <td>EUA-V8SA-016A</td>\n",
       "      <td>True</td>\n",
       "      <td>EUA</td>\n",
       "      <td>NaN</td>\n",
       "      <td>North America</td>\n",
       "      <td>2017.0</td>\n",
       "      <td>False</td>\n",
       "      <td>A</td>\n",
       "    </tr>\n",
       "  </tbody>\n",
       "</table>\n",
       "<p>3 rows × 23 columns</p>\n",
       "</div>"
      ],
      "text/plain": [
       "   Instancia  Matrícula Ap Paterno          Campus Programa  Promedio  \\\n",
       "0     105934  A00793903    Fajardo     Guadalajara    MBA09    91.000   \n",
       "1     249818  A01530316    Alcaraz  EGADE Santa Fe    MBA09    95.500   \n",
       "2     249822  A00960857  Mancillas  EGADE Santa Fe    MBA09    95.166   \n",
       "\n",
       "      Nivel   Estatus OportunidadAsignada  \\\n",
       "0  Maestría  Asignada         EUA-8DD-285   \n",
       "1  Maestría  Asignada       EUA-V8SA-016A   \n",
       "2  Maestría  Asignada       EUA-V8SA-016A   \n",
       "\n",
       "                         Nombre Oportunidad Asignada  ... Area Academica  \\\n",
       "0  University of San Diego - Doble Grado - Doble ...  ...       Negocios   \n",
       "1       Boston University - Study Abroad Tradicional  ...       Negocios   \n",
       "2       Boston University - Study Abroad Tradicional  ...       Negocios   \n",
       "\n",
       "    Escuela        Opcion1 PrimerOp Pais Tipo     Continente AñoIntercambio  \\\n",
       "0  Negocios    EUA-8DD-285     True  EUA  NaN  North America         2015.0   \n",
       "1  Negocios  EUA-V8SA-016A     True  EUA  NaN  North America         2017.0   \n",
       "2  Negocios  EUA-V8SA-016A     True  EUA  NaN  North America         2017.0   \n",
       "\n",
       "  Intercambio Calificacion  \n",
       "0       False            A  \n",
       "1       False            A  \n",
       "2       False            A  \n",
       "\n",
       "[3 rows x 23 columns]"
      ]
     },
     "execution_count": 29,
     "metadata": {},
     "output_type": "execute_result"
    }
   ],
   "source": [
    "df=df.drop('Unnamed: 0',axis=1)\n",
    "df.head(3)"
   ]
  },
  {
   "cell_type": "code",
   "execution_count": 30,
   "metadata": {},
   "outputs": [
    {
     "data": {
      "text/html": [
       "<div>\n",
       "<style scoped>\n",
       "    .dataframe tbody tr th:only-of-type {\n",
       "        vertical-align: middle;\n",
       "    }\n",
       "\n",
       "    .dataframe tbody tr th {\n",
       "        vertical-align: top;\n",
       "    }\n",
       "\n",
       "    .dataframe thead th {\n",
       "        text-align: right;\n",
       "    }\n",
       "</style>\n",
       "<table border=\"1\" class=\"dataframe\">\n",
       "  <thead>\n",
       "    <tr style=\"text-align: right;\">\n",
       "      <th></th>\n",
       "      <th>id</th>\n",
       "      <th>student_id</th>\n",
       "      <th>last_name</th>\n",
       "      <th>campus</th>\n",
       "      <th>program</th>\n",
       "      <th>average</th>\n",
       "      <th>level</th>\n",
       "      <th>status</th>\n",
       "      <th>oportunity</th>\n",
       "      <th>university</th>\n",
       "      <th>...</th>\n",
       "      <th>academic_area</th>\n",
       "      <th>school</th>\n",
       "      <th>option_1</th>\n",
       "      <th>first_choice</th>\n",
       "      <th>country</th>\n",
       "      <th>type</th>\n",
       "      <th>continent</th>\n",
       "      <th>int_year</th>\n",
       "      <th>exchange</th>\n",
       "      <th>grade_letter</th>\n",
       "    </tr>\n",
       "  </thead>\n",
       "  <tbody>\n",
       "    <tr>\n",
       "      <th>0</th>\n",
       "      <td>105934</td>\n",
       "      <td>A00793903</td>\n",
       "      <td>Fajardo</td>\n",
       "      <td>Guadalajara</td>\n",
       "      <td>MBA09</td>\n",
       "      <td>91.000</td>\n",
       "      <td>Maestría</td>\n",
       "      <td>Asignada</td>\n",
       "      <td>EUA-8DD-285</td>\n",
       "      <td>University of San Diego - Doble Grado - Doble ...</td>\n",
       "      <td>...</td>\n",
       "      <td>Negocios</td>\n",
       "      <td>Negocios</td>\n",
       "      <td>EUA-8DD-285</td>\n",
       "      <td>True</td>\n",
       "      <td>EUA</td>\n",
       "      <td>NaN</td>\n",
       "      <td>North America</td>\n",
       "      <td>2015.0</td>\n",
       "      <td>False</td>\n",
       "      <td>A</td>\n",
       "    </tr>\n",
       "    <tr>\n",
       "      <th>1</th>\n",
       "      <td>249818</td>\n",
       "      <td>A01530316</td>\n",
       "      <td>Alcaraz</td>\n",
       "      <td>EGADE Santa Fe</td>\n",
       "      <td>MBA09</td>\n",
       "      <td>95.500</td>\n",
       "      <td>Maestría</td>\n",
       "      <td>Asignada</td>\n",
       "      <td>EUA-V8SA-016A</td>\n",
       "      <td>Boston University - Study Abroad Tradicional</td>\n",
       "      <td>...</td>\n",
       "      <td>Negocios</td>\n",
       "      <td>Negocios</td>\n",
       "      <td>EUA-V8SA-016A</td>\n",
       "      <td>True</td>\n",
       "      <td>EUA</td>\n",
       "      <td>NaN</td>\n",
       "      <td>North America</td>\n",
       "      <td>2017.0</td>\n",
       "      <td>False</td>\n",
       "      <td>A</td>\n",
       "    </tr>\n",
       "    <tr>\n",
       "      <th>2</th>\n",
       "      <td>249822</td>\n",
       "      <td>A00960857</td>\n",
       "      <td>Mancillas</td>\n",
       "      <td>EGADE Santa Fe</td>\n",
       "      <td>MBA09</td>\n",
       "      <td>95.166</td>\n",
       "      <td>Maestría</td>\n",
       "      <td>Asignada</td>\n",
       "      <td>EUA-V8SA-016A</td>\n",
       "      <td>Boston University - Study Abroad Tradicional</td>\n",
       "      <td>...</td>\n",
       "      <td>Negocios</td>\n",
       "      <td>Negocios</td>\n",
       "      <td>EUA-V8SA-016A</td>\n",
       "      <td>True</td>\n",
       "      <td>EUA</td>\n",
       "      <td>NaN</td>\n",
       "      <td>North America</td>\n",
       "      <td>2017.0</td>\n",
       "      <td>False</td>\n",
       "      <td>A</td>\n",
       "    </tr>\n",
       "  </tbody>\n",
       "</table>\n",
       "<p>3 rows × 23 columns</p>\n",
       "</div>"
      ],
      "text/plain": [
       "       id student_id  last_name          campus program  average     level  \\\n",
       "0  105934  A00793903    Fajardo     Guadalajara   MBA09   91.000  Maestría   \n",
       "1  249818  A01530316    Alcaraz  EGADE Santa Fe   MBA09   95.500  Maestría   \n",
       "2  249822  A00960857  Mancillas  EGADE Santa Fe   MBA09   95.166  Maestría   \n",
       "\n",
       "     status     oportunity                                         university  \\\n",
       "0  Asignada    EUA-8DD-285  University of San Diego - Doble Grado - Doble ...   \n",
       "1  Asignada  EUA-V8SA-016A       Boston University - Study Abroad Tradicional   \n",
       "2  Asignada  EUA-V8SA-016A       Boston University - Study Abroad Tradicional   \n",
       "\n",
       "   ... academic_area    school       option_1 first_choice country type  \\\n",
       "0  ...      Negocios  Negocios    EUA-8DD-285         True     EUA  NaN   \n",
       "1  ...      Negocios  Negocios  EUA-V8SA-016A         True     EUA  NaN   \n",
       "2  ...      Negocios  Negocios  EUA-V8SA-016A         True     EUA  NaN   \n",
       "\n",
       "       continent int_year exchange grade_letter  \n",
       "0  North America   2015.0    False            A  \n",
       "1  North America   2017.0    False            A  \n",
       "2  North America   2017.0    False            A  \n",
       "\n",
       "[3 rows x 23 columns]"
      ]
     },
     "execution_count": 30,
     "metadata": {},
     "output_type": "execute_result"
    }
   ],
   "source": [
    "df.rename(columns={'Instancia': 'id', 'Matrícula': 'student_id','Ap Paterno': 'last_name','Campus': 'campus','Programa':'program','Promedio':'average',\n",
    "'Nivel':'level','Estatus':'status', 'OportunidadAsignada':'oportunity',\n",
    "       'Nombre Oportunidad Asignada':'university', 'PeriodoAcadémico':'academic_period', 'Clave':'key',\n",
    "       'Programa Academico':'academic_program', 'Area Academica':'academic_area', 'Escuela':'school', 'Opcion1':'option_1',\n",
    "       'PrimerOp':'first_choice', 'Pais':'country', 'Tipo':'type', 'Continente':'continent', 'Intercambio':'exchange',\n",
    "       'Calificacion':'grade_letter','AñoIntercambio':'int_year'}, inplace=True)\n",
    "\n",
    "df.head(3)\n"
   ]
  },
  {
   "cell_type": "code",
   "execution_count": 31,
   "metadata": {},
   "outputs": [
    {
     "data": {
      "text/plain": [
       "Index(['id', 'student_id', 'last_name', 'campus', 'program', 'average',\n",
       "       'level', 'status', 'oportunity', 'university', 'academic_period', 'key',\n",
       "       'academic_program', 'academic_area', 'school', 'option_1',\n",
       "       'first_choice', 'country', 'type', 'continent', 'int_year', 'exchange',\n",
       "       'grade_letter'],\n",
       "      dtype='object')"
      ]
     },
     "execution_count": 31,
     "metadata": {},
     "output_type": "execute_result"
    }
   ],
   "source": [
    "df.columns"
   ]
  },
  {
   "cell_type": "code",
   "execution_count": 32,
   "metadata": {},
   "outputs": [
    {
     "name": "stdout",
     "output_type": "stream",
     "text": [
      "(25524, 23)\n"
     ]
    },
    {
     "data": {
      "text/html": [
       "<div>\n",
       "<style scoped>\n",
       "    .dataframe tbody tr th:only-of-type {\n",
       "        vertical-align: middle;\n",
       "    }\n",
       "\n",
       "    .dataframe tbody tr th {\n",
       "        vertical-align: top;\n",
       "    }\n",
       "\n",
       "    .dataframe thead th {\n",
       "        text-align: right;\n",
       "    }\n",
       "</style>\n",
       "<table border=\"1\" class=\"dataframe\">\n",
       "  <thead>\n",
       "    <tr style=\"text-align: right;\">\n",
       "      <th></th>\n",
       "      <th>id</th>\n",
       "      <th>student_id</th>\n",
       "      <th>last_name</th>\n",
       "      <th>campus</th>\n",
       "      <th>program</th>\n",
       "      <th>average</th>\n",
       "      <th>level</th>\n",
       "      <th>status</th>\n",
       "      <th>oportunity</th>\n",
       "      <th>university</th>\n",
       "      <th>...</th>\n",
       "      <th>academic_area</th>\n",
       "      <th>school</th>\n",
       "      <th>option_1</th>\n",
       "      <th>first_choice</th>\n",
       "      <th>country</th>\n",
       "      <th>type</th>\n",
       "      <th>continent</th>\n",
       "      <th>int_year</th>\n",
       "      <th>exchange</th>\n",
       "      <th>grade_letter</th>\n",
       "    </tr>\n",
       "  </thead>\n",
       "  <tbody>\n",
       "    <tr>\n",
       "      <th>0</th>\n",
       "      <td>105934</td>\n",
       "      <td>A00793903</td>\n",
       "      <td>Fajardo</td>\n",
       "      <td>Guadalajara</td>\n",
       "      <td>MBA09</td>\n",
       "      <td>91.000</td>\n",
       "      <td>Maestría</td>\n",
       "      <td>Asignada</td>\n",
       "      <td>EUA-8DD-285</td>\n",
       "      <td>University of San Diego - Doble Grado - Doble ...</td>\n",
       "      <td>...</td>\n",
       "      <td>Negocios</td>\n",
       "      <td>Negocios</td>\n",
       "      <td>EUA-8DD-285</td>\n",
       "      <td>True</td>\n",
       "      <td>EUA</td>\n",
       "      <td>Otro</td>\n",
       "      <td>North America</td>\n",
       "      <td>2015.0</td>\n",
       "      <td>False</td>\n",
       "      <td>A</td>\n",
       "    </tr>\n",
       "    <tr>\n",
       "      <th>1</th>\n",
       "      <td>249818</td>\n",
       "      <td>A01530316</td>\n",
       "      <td>Alcaraz</td>\n",
       "      <td>EGADE Santa Fe</td>\n",
       "      <td>MBA09</td>\n",
       "      <td>95.500</td>\n",
       "      <td>Maestría</td>\n",
       "      <td>Asignada</td>\n",
       "      <td>EUA-V8SA-016A</td>\n",
       "      <td>Boston University - Study Abroad Tradicional</td>\n",
       "      <td>...</td>\n",
       "      <td>Negocios</td>\n",
       "      <td>Negocios</td>\n",
       "      <td>EUA-V8SA-016A</td>\n",
       "      <td>True</td>\n",
       "      <td>EUA</td>\n",
       "      <td>Otro</td>\n",
       "      <td>North America</td>\n",
       "      <td>2017.0</td>\n",
       "      <td>False</td>\n",
       "      <td>A</td>\n",
       "    </tr>\n",
       "    <tr>\n",
       "      <th>2</th>\n",
       "      <td>249822</td>\n",
       "      <td>A00960857</td>\n",
       "      <td>Mancillas</td>\n",
       "      <td>EGADE Santa Fe</td>\n",
       "      <td>MBA09</td>\n",
       "      <td>95.166</td>\n",
       "      <td>Maestría</td>\n",
       "      <td>Asignada</td>\n",
       "      <td>EUA-V8SA-016A</td>\n",
       "      <td>Boston University - Study Abroad Tradicional</td>\n",
       "      <td>...</td>\n",
       "      <td>Negocios</td>\n",
       "      <td>Negocios</td>\n",
       "      <td>EUA-V8SA-016A</td>\n",
       "      <td>True</td>\n",
       "      <td>EUA</td>\n",
       "      <td>Otro</td>\n",
       "      <td>North America</td>\n",
       "      <td>2017.0</td>\n",
       "      <td>False</td>\n",
       "      <td>A</td>\n",
       "    </tr>\n",
       "  </tbody>\n",
       "</table>\n",
       "<p>3 rows × 23 columns</p>\n",
       "</div>"
      ],
      "text/plain": [
       "       id student_id  last_name          campus program  average     level  \\\n",
       "0  105934  A00793903    Fajardo     Guadalajara   MBA09   91.000  Maestría   \n",
       "1  249818  A01530316    Alcaraz  EGADE Santa Fe   MBA09   95.500  Maestría   \n",
       "2  249822  A00960857  Mancillas  EGADE Santa Fe   MBA09   95.166  Maestría   \n",
       "\n",
       "     status     oportunity                                         university  \\\n",
       "0  Asignada    EUA-8DD-285  University of San Diego - Doble Grado - Doble ...   \n",
       "1  Asignada  EUA-V8SA-016A       Boston University - Study Abroad Tradicional   \n",
       "2  Asignada  EUA-V8SA-016A       Boston University - Study Abroad Tradicional   \n",
       "\n",
       "   ... academic_area    school       option_1 first_choice country  type  \\\n",
       "0  ...      Negocios  Negocios    EUA-8DD-285         True     EUA  Otro   \n",
       "1  ...      Negocios  Negocios  EUA-V8SA-016A         True     EUA  Otro   \n",
       "2  ...      Negocios  Negocios  EUA-V8SA-016A         True     EUA  Otro   \n",
       "\n",
       "       continent int_year exchange grade_letter  \n",
       "0  North America   2015.0    False            A  \n",
       "1  North America   2017.0    False            A  \n",
       "2  North America   2017.0    False            A  \n",
       "\n",
       "[3 rows x 23 columns]"
      ]
     },
     "execution_count": 32,
     "metadata": {},
     "output_type": "execute_result"
    }
   ],
   "source": [
    "#df=df.loc[df[\"\"] != \"INT\", \"type\"] == 'Otro'\n",
    "df[\"type\"] = np.where(df[\"type\"] == \"INT\", 'INT', 'Otro')\n",
    "print(df.shape)\n",
    "df.head(3)"
   ]
  },
  {
   "cell_type": "code",
   "execution_count": 33,
   "metadata": {},
   "outputs": [
    {
     "data": {
      "text/plain": [
       "(25455, 23)"
      ]
     },
     "execution_count": 33,
     "metadata": {},
     "output_type": "execute_result"
    }
   ],
   "source": [
    "df = df[df[\"school\"].str.contains(\"No Aplica\") == False]\n",
    "df.shape"
   ]
  },
  {
   "cell_type": "code",
   "execution_count": 34,
   "metadata": {},
   "outputs": [
    {
     "data": {
      "text/plain": [
       "(16840, 23)"
      ]
     },
     "execution_count": 34,
     "metadata": {},
     "output_type": "execute_result"
    }
   ],
   "source": [
    "df = df[df['int_year'] <= 2022]\n",
    "df.shape"
   ]
  },
  {
   "cell_type": "code",
   "execution_count": 35,
   "metadata": {},
   "outputs": [],
   "source": [
    "choice=True\n",
    "programa='Negocios'"
   ]
  },
  {
   "cell_type": "code",
   "execution_count": 36,
   "metadata": {},
   "outputs": [
    {
     "data": {
      "text/html": [
       "<div>\n",
       "<style scoped>\n",
       "    .dataframe tbody tr th:only-of-type {\n",
       "        vertical-align: middle;\n",
       "    }\n",
       "\n",
       "    .dataframe tbody tr th {\n",
       "        vertical-align: top;\n",
       "    }\n",
       "\n",
       "    .dataframe thead th {\n",
       "        text-align: right;\n",
       "    }\n",
       "</style>\n",
       "<table border=\"1\" class=\"dataframe\">\n",
       "  <thead>\n",
       "    <tr style=\"text-align: right;\">\n",
       "      <th></th>\n",
       "      <th>int_year</th>\n",
       "      <th>school</th>\n",
       "      <th>first_choice</th>\n",
       "    </tr>\n",
       "  </thead>\n",
       "  <tbody>\n",
       "    <tr>\n",
       "      <th>0</th>\n",
       "      <td>2015.0</td>\n",
       "      <td>Negocios</td>\n",
       "      <td>True</td>\n",
       "    </tr>\n",
       "    <tr>\n",
       "      <th>1</th>\n",
       "      <td>2017.0</td>\n",
       "      <td>Negocios</td>\n",
       "      <td>True</td>\n",
       "    </tr>\n",
       "    <tr>\n",
       "      <th>2</th>\n",
       "      <td>2017.0</td>\n",
       "      <td>Negocios</td>\n",
       "      <td>True</td>\n",
       "    </tr>\n",
       "    <tr>\n",
       "      <th>3</th>\n",
       "      <td>2017.0</td>\n",
       "      <td>Negocios</td>\n",
       "      <td>True</td>\n",
       "    </tr>\n",
       "    <tr>\n",
       "      <th>4</th>\n",
       "      <td>2015.0</td>\n",
       "      <td>Negocios</td>\n",
       "      <td>True</td>\n",
       "    </tr>\n",
       "    <tr>\n",
       "      <th>...</th>\n",
       "      <td>...</td>\n",
       "      <td>...</td>\n",
       "      <td>...</td>\n",
       "    </tr>\n",
       "    <tr>\n",
       "      <th>25442</th>\n",
       "      <td>2015.0</td>\n",
       "      <td>Negocios</td>\n",
       "      <td>True</td>\n",
       "    </tr>\n",
       "    <tr>\n",
       "      <th>25443</th>\n",
       "      <td>2019.0</td>\n",
       "      <td>Negocios</td>\n",
       "      <td>True</td>\n",
       "    </tr>\n",
       "    <tr>\n",
       "      <th>25489</th>\n",
       "      <td>2018.0</td>\n",
       "      <td>Negocios</td>\n",
       "      <td>True</td>\n",
       "    </tr>\n",
       "    <tr>\n",
       "      <th>25497</th>\n",
       "      <td>2018.0</td>\n",
       "      <td>Negocios</td>\n",
       "      <td>True</td>\n",
       "    </tr>\n",
       "    <tr>\n",
       "      <th>25498</th>\n",
       "      <td>2018.0</td>\n",
       "      <td>Negocios</td>\n",
       "      <td>True</td>\n",
       "    </tr>\n",
       "  </tbody>\n",
       "</table>\n",
       "<p>5005 rows × 3 columns</p>\n",
       "</div>"
      ],
      "text/plain": [
       "       int_year    school  first_choice\n",
       "0        2015.0  Negocios          True\n",
       "1        2017.0  Negocios          True\n",
       "2        2017.0  Negocios          True\n",
       "3        2017.0  Negocios          True\n",
       "4        2015.0  Negocios          True\n",
       "...         ...       ...           ...\n",
       "25442    2015.0  Negocios          True\n",
       "25443    2019.0  Negocios          True\n",
       "25489    2018.0  Negocios          True\n",
       "25497    2018.0  Negocios          True\n",
       "25498    2018.0  Negocios          True\n",
       "\n",
       "[5005 rows x 3 columns]"
      ]
     },
     "execution_count": 36,
     "metadata": {},
     "output_type": "execute_result"
    }
   ],
   "source": [
    "df_filt=df.loc[(df['first_choice']== choice) & (df['school'] == programa),['int_year','school','first_choice']]\n",
    "df_filt"
   ]
  },
  {
   "cell_type": "code",
   "execution_count": 37,
   "metadata": {},
   "outputs": [
    {
     "data": {
      "text/plain": [
       "2015.0    1292\n",
       "2016.0     995\n",
       "2018.0     871\n",
       "2017.0     786\n",
       "2019.0     333\n",
       "2020.0     316\n",
       "2021.0     221\n",
       "2022.0     190\n",
       "2014.0       1\n",
       "Name: int_year, dtype: int64"
      ]
     },
     "execution_count": 37,
     "metadata": {},
     "output_type": "execute_result"
    }
   ],
   "source": [
    "df_filt=df_filt.int_year.value_counts()\n",
    "df_filt"
   ]
  },
  {
   "cell_type": "code",
   "execution_count": 38,
   "metadata": {},
   "outputs": [
    {
     "data": {
      "text/html": [
       "<div>\n",
       "<style scoped>\n",
       "    .dataframe tbody tr th:only-of-type {\n",
       "        vertical-align: middle;\n",
       "    }\n",
       "\n",
       "    .dataframe tbody tr th {\n",
       "        vertical-align: top;\n",
       "    }\n",
       "\n",
       "    .dataframe thead th {\n",
       "        text-align: right;\n",
       "    }\n",
       "</style>\n",
       "<table border=\"1\" class=\"dataframe\">\n",
       "  <thead>\n",
       "    <tr style=\"text-align: right;\">\n",
       "      <th></th>\n",
       "      <th>Año</th>\n",
       "      <th>Cant_Alumnos</th>\n",
       "    </tr>\n",
       "  </thead>\n",
       "  <tbody>\n",
       "    <tr>\n",
       "      <th>0</th>\n",
       "      <td>2015.0</td>\n",
       "      <td>1292</td>\n",
       "    </tr>\n",
       "    <tr>\n",
       "      <th>1</th>\n",
       "      <td>2016.0</td>\n",
       "      <td>995</td>\n",
       "    </tr>\n",
       "    <tr>\n",
       "      <th>2</th>\n",
       "      <td>2018.0</td>\n",
       "      <td>871</td>\n",
       "    </tr>\n",
       "    <tr>\n",
       "      <th>3</th>\n",
       "      <td>2017.0</td>\n",
       "      <td>786</td>\n",
       "    </tr>\n",
       "    <tr>\n",
       "      <th>4</th>\n",
       "      <td>2019.0</td>\n",
       "      <td>333</td>\n",
       "    </tr>\n",
       "    <tr>\n",
       "      <th>5</th>\n",
       "      <td>2020.0</td>\n",
       "      <td>316</td>\n",
       "    </tr>\n",
       "    <tr>\n",
       "      <th>6</th>\n",
       "      <td>2021.0</td>\n",
       "      <td>221</td>\n",
       "    </tr>\n",
       "    <tr>\n",
       "      <th>7</th>\n",
       "      <td>2022.0</td>\n",
       "      <td>190</td>\n",
       "    </tr>\n",
       "    <tr>\n",
       "      <th>8</th>\n",
       "      <td>2014.0</td>\n",
       "      <td>1</td>\n",
       "    </tr>\n",
       "  </tbody>\n",
       "</table>\n",
       "</div>"
      ],
      "text/plain": [
       "      Año  Cant_Alumnos\n",
       "0  2015.0          1292\n",
       "1  2016.0           995\n",
       "2  2018.0           871\n",
       "3  2017.0           786\n",
       "4  2019.0           333\n",
       "5  2020.0           316\n",
       "6  2021.0           221\n",
       "7  2022.0           190\n",
       "8  2014.0             1"
      ]
     },
     "execution_count": 38,
     "metadata": {},
     "output_type": "execute_result"
    }
   ],
   "source": [
    "df_filt=pd.DataFrame(df_filt)\n",
    "df_filt=df_filt.reset_index()\n",
    "df_filt=df_filt.rename(columns={'index':'Año','int_year':'students'})\n",
    "df_filt"
   ]
  },
  {
   "cell_type": "code",
   "execution_count": 39,
   "metadata": {},
   "outputs": [
    {
     "data": {
      "text/html": [
       "<div>\n",
       "<style scoped>\n",
       "    .dataframe tbody tr th:only-of-type {\n",
       "        vertical-align: middle;\n",
       "    }\n",
       "\n",
       "    .dataframe tbody tr th {\n",
       "        vertical-align: top;\n",
       "    }\n",
       "\n",
       "    .dataframe thead th {\n",
       "        text-align: right;\n",
       "    }\n",
       "</style>\n",
       "<table border=\"1\" class=\"dataframe\">\n",
       "  <thead>\n",
       "    <tr style=\"text-align: right;\">\n",
       "      <th></th>\n",
       "      <th>country</th>\n",
       "      <th>continent</th>\n",
       "    </tr>\n",
       "  </thead>\n",
       "  <tbody>\n",
       "    <tr>\n",
       "      <th>0</th>\n",
       "      <td>EUA</td>\n",
       "      <td>North America</td>\n",
       "    </tr>\n",
       "    <tr>\n",
       "      <th>1</th>\n",
       "      <td>EUA</td>\n",
       "      <td>North America</td>\n",
       "    </tr>\n",
       "    <tr>\n",
       "      <th>2</th>\n",
       "      <td>EUA</td>\n",
       "      <td>North America</td>\n",
       "    </tr>\n",
       "    <tr>\n",
       "      <th>3</th>\n",
       "      <td>EUA</td>\n",
       "      <td>North America</td>\n",
       "    </tr>\n",
       "    <tr>\n",
       "      <th>4</th>\n",
       "      <td>EUA</td>\n",
       "      <td>North America</td>\n",
       "    </tr>\n",
       "    <tr>\n",
       "      <th>...</th>\n",
       "      <td>...</td>\n",
       "      <td>...</td>\n",
       "    </tr>\n",
       "    <tr>\n",
       "      <th>25516</th>\n",
       "      <td>IND</td>\n",
       "      <td>Asia</td>\n",
       "    </tr>\n",
       "    <tr>\n",
       "      <th>25517</th>\n",
       "      <td>IND</td>\n",
       "      <td>Asia</td>\n",
       "    </tr>\n",
       "    <tr>\n",
       "      <th>25518</th>\n",
       "      <td>IND</td>\n",
       "      <td>Asia</td>\n",
       "    </tr>\n",
       "    <tr>\n",
       "      <th>25519</th>\n",
       "      <td>DOM</td>\n",
       "      <td>North America</td>\n",
       "    </tr>\n",
       "    <tr>\n",
       "      <th>25520</th>\n",
       "      <td>IDN</td>\n",
       "      <td>Asia</td>\n",
       "    </tr>\n",
       "  </tbody>\n",
       "</table>\n",
       "<p>16840 rows × 2 columns</p>\n",
       "</div>"
      ],
      "text/plain": [
       "      country      continent\n",
       "0         EUA  North America\n",
       "1         EUA  North America\n",
       "2         EUA  North America\n",
       "3         EUA  North America\n",
       "4         EUA  North America\n",
       "...       ...            ...\n",
       "25516     IND           Asia\n",
       "25517     IND           Asia\n",
       "25518     IND           Asia\n",
       "25519     DOM  North America\n",
       "25520     IDN           Asia\n",
       "\n",
       "[16840 rows x 2 columns]"
      ]
     },
     "execution_count": 39,
     "metadata": {},
     "output_type": "execute_result"
    }
   ],
   "source": [
    "df_map=df[['country','continent']]\n",
    "df_map"
   ]
  },
  {
   "cell_type": "code",
   "execution_count": 40,
   "metadata": {},
   "outputs": [
    {
     "data": {
      "text/plain": [
       "ESP    3116\n",
       "CAN    2516\n",
       "FRA    2412\n",
       "MEX    2314\n",
       "EUA    1269\n",
       "ITA    1114\n",
       "CZE     816\n",
       "AUS     747\n",
       "CHN     656\n",
       "CHL     437\n",
       "COL     397\n",
       "ARG     267\n",
       "FIN     117\n",
       "SVK     103\n",
       "BEL      75\n",
       "POL      64\n",
       "TUR      64\n",
       "RUS      60\n",
       "HUN      55\n",
       "AUT      46\n",
       "LVA      29\n",
       "NOR      26\n",
       "NZL      22\n",
       "BRA      21\n",
       "IRL      19\n",
       "SVN      13\n",
       "PAN      12\n",
       "ISR      11\n",
       "CUB      10\n",
       "ECU      10\n",
       "PER       7\n",
       "HKG       7\n",
       "IND       3\n",
       "ISL       2\n",
       "LTU       1\n",
       "DOM       1\n",
       "IDN       1\n",
       "Name: country, dtype: int64"
      ]
     },
     "execution_count": 40,
     "metadata": {},
     "output_type": "execute_result"
    }
   ],
   "source": [
    "df_map=df_map.country.value_counts()\n",
    "df_map"
   ]
  },
  {
   "cell_type": "code",
   "execution_count": 41,
   "metadata": {},
   "outputs": [
    {
     "data": {
      "text/html": [
       "<div>\n",
       "<style scoped>\n",
       "    .dataframe tbody tr th:only-of-type {\n",
       "        vertical-align: middle;\n",
       "    }\n",
       "\n",
       "    .dataframe tbody tr th {\n",
       "        vertical-align: top;\n",
       "    }\n",
       "\n",
       "    .dataframe thead th {\n",
       "        text-align: right;\n",
       "    }\n",
       "</style>\n",
       "<table border=\"1\" class=\"dataframe\">\n",
       "  <thead>\n",
       "    <tr style=\"text-align: right;\">\n",
       "      <th></th>\n",
       "      <th>country</th>\n",
       "      <th>Cant_Alumnos</th>\n",
       "    </tr>\n",
       "  </thead>\n",
       "  <tbody>\n",
       "    <tr>\n",
       "      <th>0</th>\n",
       "      <td>ESP</td>\n",
       "      <td>3116</td>\n",
       "    </tr>\n",
       "    <tr>\n",
       "      <th>1</th>\n",
       "      <td>CAN</td>\n",
       "      <td>2516</td>\n",
       "    </tr>\n",
       "    <tr>\n",
       "      <th>2</th>\n",
       "      <td>FRA</td>\n",
       "      <td>2412</td>\n",
       "    </tr>\n",
       "    <tr>\n",
       "      <th>3</th>\n",
       "      <td>MEX</td>\n",
       "      <td>2314</td>\n",
       "    </tr>\n",
       "    <tr>\n",
       "      <th>4</th>\n",
       "      <td>EUA</td>\n",
       "      <td>1269</td>\n",
       "    </tr>\n",
       "    <tr>\n",
       "      <th>5</th>\n",
       "      <td>ITA</td>\n",
       "      <td>1114</td>\n",
       "    </tr>\n",
       "    <tr>\n",
       "      <th>6</th>\n",
       "      <td>CZE</td>\n",
       "      <td>816</td>\n",
       "    </tr>\n",
       "    <tr>\n",
       "      <th>7</th>\n",
       "      <td>AUS</td>\n",
       "      <td>747</td>\n",
       "    </tr>\n",
       "    <tr>\n",
       "      <th>8</th>\n",
       "      <td>CHN</td>\n",
       "      <td>656</td>\n",
       "    </tr>\n",
       "    <tr>\n",
       "      <th>9</th>\n",
       "      <td>CHL</td>\n",
       "      <td>437</td>\n",
       "    </tr>\n",
       "    <tr>\n",
       "      <th>10</th>\n",
       "      <td>COL</td>\n",
       "      <td>397</td>\n",
       "    </tr>\n",
       "    <tr>\n",
       "      <th>11</th>\n",
       "      <td>ARG</td>\n",
       "      <td>267</td>\n",
       "    </tr>\n",
       "    <tr>\n",
       "      <th>12</th>\n",
       "      <td>FIN</td>\n",
       "      <td>117</td>\n",
       "    </tr>\n",
       "    <tr>\n",
       "      <th>13</th>\n",
       "      <td>SVK</td>\n",
       "      <td>103</td>\n",
       "    </tr>\n",
       "    <tr>\n",
       "      <th>14</th>\n",
       "      <td>BEL</td>\n",
       "      <td>75</td>\n",
       "    </tr>\n",
       "    <tr>\n",
       "      <th>15</th>\n",
       "      <td>POL</td>\n",
       "      <td>64</td>\n",
       "    </tr>\n",
       "    <tr>\n",
       "      <th>16</th>\n",
       "      <td>TUR</td>\n",
       "      <td>64</td>\n",
       "    </tr>\n",
       "    <tr>\n",
       "      <th>17</th>\n",
       "      <td>RUS</td>\n",
       "      <td>60</td>\n",
       "    </tr>\n",
       "    <tr>\n",
       "      <th>18</th>\n",
       "      <td>HUN</td>\n",
       "      <td>55</td>\n",
       "    </tr>\n",
       "    <tr>\n",
       "      <th>19</th>\n",
       "      <td>AUT</td>\n",
       "      <td>46</td>\n",
       "    </tr>\n",
       "    <tr>\n",
       "      <th>20</th>\n",
       "      <td>LVA</td>\n",
       "      <td>29</td>\n",
       "    </tr>\n",
       "    <tr>\n",
       "      <th>21</th>\n",
       "      <td>NOR</td>\n",
       "      <td>26</td>\n",
       "    </tr>\n",
       "    <tr>\n",
       "      <th>22</th>\n",
       "      <td>NZL</td>\n",
       "      <td>22</td>\n",
       "    </tr>\n",
       "    <tr>\n",
       "      <th>23</th>\n",
       "      <td>BRA</td>\n",
       "      <td>21</td>\n",
       "    </tr>\n",
       "    <tr>\n",
       "      <th>24</th>\n",
       "      <td>IRL</td>\n",
       "      <td>19</td>\n",
       "    </tr>\n",
       "    <tr>\n",
       "      <th>25</th>\n",
       "      <td>SVN</td>\n",
       "      <td>13</td>\n",
       "    </tr>\n",
       "    <tr>\n",
       "      <th>26</th>\n",
       "      <td>PAN</td>\n",
       "      <td>12</td>\n",
       "    </tr>\n",
       "    <tr>\n",
       "      <th>27</th>\n",
       "      <td>ISR</td>\n",
       "      <td>11</td>\n",
       "    </tr>\n",
       "    <tr>\n",
       "      <th>28</th>\n",
       "      <td>CUB</td>\n",
       "      <td>10</td>\n",
       "    </tr>\n",
       "    <tr>\n",
       "      <th>29</th>\n",
       "      <td>ECU</td>\n",
       "      <td>10</td>\n",
       "    </tr>\n",
       "    <tr>\n",
       "      <th>30</th>\n",
       "      <td>PER</td>\n",
       "      <td>7</td>\n",
       "    </tr>\n",
       "    <tr>\n",
       "      <th>31</th>\n",
       "      <td>HKG</td>\n",
       "      <td>7</td>\n",
       "    </tr>\n",
       "    <tr>\n",
       "      <th>32</th>\n",
       "      <td>IND</td>\n",
       "      <td>3</td>\n",
       "    </tr>\n",
       "    <tr>\n",
       "      <th>33</th>\n",
       "      <td>ISL</td>\n",
       "      <td>2</td>\n",
       "    </tr>\n",
       "    <tr>\n",
       "      <th>34</th>\n",
       "      <td>LTU</td>\n",
       "      <td>1</td>\n",
       "    </tr>\n",
       "    <tr>\n",
       "      <th>35</th>\n",
       "      <td>DOM</td>\n",
       "      <td>1</td>\n",
       "    </tr>\n",
       "    <tr>\n",
       "      <th>36</th>\n",
       "      <td>IDN</td>\n",
       "      <td>1</td>\n",
       "    </tr>\n",
       "  </tbody>\n",
       "</table>\n",
       "</div>"
      ],
      "text/plain": [
       "   country  Cant_Alumnos\n",
       "0      ESP          3116\n",
       "1      CAN          2516\n",
       "2      FRA          2412\n",
       "3      MEX          2314\n",
       "4      EUA          1269\n",
       "5      ITA          1114\n",
       "6      CZE           816\n",
       "7      AUS           747\n",
       "8      CHN           656\n",
       "9      CHL           437\n",
       "10     COL           397\n",
       "11     ARG           267\n",
       "12     FIN           117\n",
       "13     SVK           103\n",
       "14     BEL            75\n",
       "15     POL            64\n",
       "16     TUR            64\n",
       "17     RUS            60\n",
       "18     HUN            55\n",
       "19     AUT            46\n",
       "20     LVA            29\n",
       "21     NOR            26\n",
       "22     NZL            22\n",
       "23     BRA            21\n",
       "24     IRL            19\n",
       "25     SVN            13\n",
       "26     PAN            12\n",
       "27     ISR            11\n",
       "28     CUB            10\n",
       "29     ECU            10\n",
       "30     PER             7\n",
       "31     HKG             7\n",
       "32     IND             3\n",
       "33     ISL             2\n",
       "34     LTU             1\n",
       "35     DOM             1\n",
       "36     IDN             1"
      ]
     },
     "execution_count": 41,
     "metadata": {},
     "output_type": "execute_result"
    }
   ],
   "source": [
    "df_map=pd.DataFrame(df_map)\n",
    "df_map=df_map.reset_index()\n",
    "df_map=df_map.rename(columns={'index':'country','country':'students'})\n",
    "df_map"
   ]
  },
  {
   "cell_type": "code",
   "execution_count": 45,
   "metadata": {},
   "outputs": [],
   "source": [
    "df3 = pd.read_csv('country-and-continent-codes-list-csv.csv')\n",
    "df3=df3.drop(['Continent_Code','Country_Name','Two_Letter_Country_Code','Country_Number'],axis=1)\n",
    "df3['Three_Letter_Country_Code'] = df3['Three_Letter_Country_Code'].replace(['USA'], 'EUA')"
   ]
  },
  {
   "cell_type": "code",
   "execution_count": 46,
   "metadata": {},
   "outputs": [],
   "source": [
    "df_map = df_map.merge(df3, how = 'inner', left_on = 'country', right_on = 'Three_Letter_Country_Code')\n",
    "df_map = df_map.drop(['Three_Letter_Country_Code'],axis=1)\n",
    "df_map.rename(columns = {'Continent_Name':'continent'}, inplace = True)"
   ]
  },
  {
   "cell_type": "code",
   "execution_count": 47,
   "metadata": {},
   "outputs": [
    {
     "data": {
      "text/html": [
       "<div>\n",
       "<style scoped>\n",
       "    .dataframe tbody tr th:only-of-type {\n",
       "        vertical-align: middle;\n",
       "    }\n",
       "\n",
       "    .dataframe tbody tr th {\n",
       "        vertical-align: top;\n",
       "    }\n",
       "\n",
       "    .dataframe thead th {\n",
       "        text-align: right;\n",
       "    }\n",
       "</style>\n",
       "<table border=\"1\" class=\"dataframe\">\n",
       "  <thead>\n",
       "    <tr style=\"text-align: right;\">\n",
       "      <th></th>\n",
       "      <th>country</th>\n",
       "      <th>Cant_Alumnos</th>\n",
       "      <th>continent</th>\n",
       "    </tr>\n",
       "  </thead>\n",
       "  <tbody>\n",
       "    <tr>\n",
       "      <th>0</th>\n",
       "      <td>ESP</td>\n",
       "      <td>3116</td>\n",
       "      <td>Europe</td>\n",
       "    </tr>\n",
       "    <tr>\n",
       "      <th>1</th>\n",
       "      <td>CAN</td>\n",
       "      <td>2516</td>\n",
       "      <td>North America</td>\n",
       "    </tr>\n",
       "    <tr>\n",
       "      <th>2</th>\n",
       "      <td>FRA</td>\n",
       "      <td>2412</td>\n",
       "      <td>Europe</td>\n",
       "    </tr>\n",
       "    <tr>\n",
       "      <th>3</th>\n",
       "      <td>MEX</td>\n",
       "      <td>2314</td>\n",
       "      <td>North America</td>\n",
       "    </tr>\n",
       "    <tr>\n",
       "      <th>4</th>\n",
       "      <td>EUA</td>\n",
       "      <td>1269</td>\n",
       "      <td>North America</td>\n",
       "    </tr>\n",
       "    <tr>\n",
       "      <th>5</th>\n",
       "      <td>ITA</td>\n",
       "      <td>1114</td>\n",
       "      <td>Europe</td>\n",
       "    </tr>\n",
       "    <tr>\n",
       "      <th>6</th>\n",
       "      <td>CZE</td>\n",
       "      <td>816</td>\n",
       "      <td>Europe</td>\n",
       "    </tr>\n",
       "    <tr>\n",
       "      <th>7</th>\n",
       "      <td>AUS</td>\n",
       "      <td>747</td>\n",
       "      <td>Oceania</td>\n",
       "    </tr>\n",
       "    <tr>\n",
       "      <th>8</th>\n",
       "      <td>CHN</td>\n",
       "      <td>656</td>\n",
       "      <td>Asia</td>\n",
       "    </tr>\n",
       "    <tr>\n",
       "      <th>9</th>\n",
       "      <td>CHL</td>\n",
       "      <td>437</td>\n",
       "      <td>South America</td>\n",
       "    </tr>\n",
       "    <tr>\n",
       "      <th>10</th>\n",
       "      <td>COL</td>\n",
       "      <td>397</td>\n",
       "      <td>South America</td>\n",
       "    </tr>\n",
       "    <tr>\n",
       "      <th>11</th>\n",
       "      <td>ARG</td>\n",
       "      <td>267</td>\n",
       "      <td>South America</td>\n",
       "    </tr>\n",
       "    <tr>\n",
       "      <th>12</th>\n",
       "      <td>FIN</td>\n",
       "      <td>117</td>\n",
       "      <td>Europe</td>\n",
       "    </tr>\n",
       "    <tr>\n",
       "      <th>13</th>\n",
       "      <td>SVK</td>\n",
       "      <td>103</td>\n",
       "      <td>Europe</td>\n",
       "    </tr>\n",
       "    <tr>\n",
       "      <th>14</th>\n",
       "      <td>BEL</td>\n",
       "      <td>75</td>\n",
       "      <td>Europe</td>\n",
       "    </tr>\n",
       "    <tr>\n",
       "      <th>15</th>\n",
       "      <td>POL</td>\n",
       "      <td>64</td>\n",
       "      <td>Europe</td>\n",
       "    </tr>\n",
       "    <tr>\n",
       "      <th>16</th>\n",
       "      <td>TUR</td>\n",
       "      <td>64</td>\n",
       "      <td>Europe</td>\n",
       "    </tr>\n",
       "    <tr>\n",
       "      <th>17</th>\n",
       "      <td>TUR</td>\n",
       "      <td>64</td>\n",
       "      <td>Asia</td>\n",
       "    </tr>\n",
       "    <tr>\n",
       "      <th>18</th>\n",
       "      <td>RUS</td>\n",
       "      <td>60</td>\n",
       "      <td>Europe</td>\n",
       "    </tr>\n",
       "    <tr>\n",
       "      <th>19</th>\n",
       "      <td>RUS</td>\n",
       "      <td>60</td>\n",
       "      <td>Asia</td>\n",
       "    </tr>\n",
       "    <tr>\n",
       "      <th>20</th>\n",
       "      <td>HUN</td>\n",
       "      <td>55</td>\n",
       "      <td>Europe</td>\n",
       "    </tr>\n",
       "    <tr>\n",
       "      <th>21</th>\n",
       "      <td>AUT</td>\n",
       "      <td>46</td>\n",
       "      <td>Europe</td>\n",
       "    </tr>\n",
       "    <tr>\n",
       "      <th>22</th>\n",
       "      <td>LVA</td>\n",
       "      <td>29</td>\n",
       "      <td>Europe</td>\n",
       "    </tr>\n",
       "    <tr>\n",
       "      <th>23</th>\n",
       "      <td>NOR</td>\n",
       "      <td>26</td>\n",
       "      <td>Europe</td>\n",
       "    </tr>\n",
       "    <tr>\n",
       "      <th>24</th>\n",
       "      <td>NZL</td>\n",
       "      <td>22</td>\n",
       "      <td>Oceania</td>\n",
       "    </tr>\n",
       "    <tr>\n",
       "      <th>25</th>\n",
       "      <td>BRA</td>\n",
       "      <td>21</td>\n",
       "      <td>South America</td>\n",
       "    </tr>\n",
       "    <tr>\n",
       "      <th>26</th>\n",
       "      <td>IRL</td>\n",
       "      <td>19</td>\n",
       "      <td>Europe</td>\n",
       "    </tr>\n",
       "    <tr>\n",
       "      <th>27</th>\n",
       "      <td>SVN</td>\n",
       "      <td>13</td>\n",
       "      <td>Europe</td>\n",
       "    </tr>\n",
       "    <tr>\n",
       "      <th>28</th>\n",
       "      <td>PAN</td>\n",
       "      <td>12</td>\n",
       "      <td>North America</td>\n",
       "    </tr>\n",
       "    <tr>\n",
       "      <th>29</th>\n",
       "      <td>ISR</td>\n",
       "      <td>11</td>\n",
       "      <td>Asia</td>\n",
       "    </tr>\n",
       "    <tr>\n",
       "      <th>30</th>\n",
       "      <td>CUB</td>\n",
       "      <td>10</td>\n",
       "      <td>North America</td>\n",
       "    </tr>\n",
       "    <tr>\n",
       "      <th>31</th>\n",
       "      <td>ECU</td>\n",
       "      <td>10</td>\n",
       "      <td>South America</td>\n",
       "    </tr>\n",
       "    <tr>\n",
       "      <th>32</th>\n",
       "      <td>PER</td>\n",
       "      <td>7</td>\n",
       "      <td>South America</td>\n",
       "    </tr>\n",
       "    <tr>\n",
       "      <th>33</th>\n",
       "      <td>HKG</td>\n",
       "      <td>7</td>\n",
       "      <td>Asia</td>\n",
       "    </tr>\n",
       "    <tr>\n",
       "      <th>34</th>\n",
       "      <td>IND</td>\n",
       "      <td>3</td>\n",
       "      <td>Asia</td>\n",
       "    </tr>\n",
       "    <tr>\n",
       "      <th>35</th>\n",
       "      <td>ISL</td>\n",
       "      <td>2</td>\n",
       "      <td>Europe</td>\n",
       "    </tr>\n",
       "    <tr>\n",
       "      <th>36</th>\n",
       "      <td>LTU</td>\n",
       "      <td>1</td>\n",
       "      <td>Europe</td>\n",
       "    </tr>\n",
       "    <tr>\n",
       "      <th>37</th>\n",
       "      <td>DOM</td>\n",
       "      <td>1</td>\n",
       "      <td>North America</td>\n",
       "    </tr>\n",
       "    <tr>\n",
       "      <th>38</th>\n",
       "      <td>IDN</td>\n",
       "      <td>1</td>\n",
       "      <td>Asia</td>\n",
       "    </tr>\n",
       "  </tbody>\n",
       "</table>\n",
       "</div>"
      ],
      "text/plain": [
       "   country  Cant_Alumnos      continent\n",
       "0      ESP          3116         Europe\n",
       "1      CAN          2516  North America\n",
       "2      FRA          2412         Europe\n",
       "3      MEX          2314  North America\n",
       "4      EUA          1269  North America\n",
       "5      ITA          1114         Europe\n",
       "6      CZE           816         Europe\n",
       "7      AUS           747        Oceania\n",
       "8      CHN           656           Asia\n",
       "9      CHL           437  South America\n",
       "10     COL           397  South America\n",
       "11     ARG           267  South America\n",
       "12     FIN           117         Europe\n",
       "13     SVK           103         Europe\n",
       "14     BEL            75         Europe\n",
       "15     POL            64         Europe\n",
       "16     TUR            64         Europe\n",
       "17     TUR            64           Asia\n",
       "18     RUS            60         Europe\n",
       "19     RUS            60           Asia\n",
       "20     HUN            55         Europe\n",
       "21     AUT            46         Europe\n",
       "22     LVA            29         Europe\n",
       "23     NOR            26         Europe\n",
       "24     NZL            22        Oceania\n",
       "25     BRA            21  South America\n",
       "26     IRL            19         Europe\n",
       "27     SVN            13         Europe\n",
       "28     PAN            12  North America\n",
       "29     ISR            11           Asia\n",
       "30     CUB            10  North America\n",
       "31     ECU            10  South America\n",
       "32     PER             7  South America\n",
       "33     HKG             7           Asia\n",
       "34     IND             3           Asia\n",
       "35     ISL             2         Europe\n",
       "36     LTU             1         Europe\n",
       "37     DOM             1  North America\n",
       "38     IDN             1           Asia"
      ]
     },
     "execution_count": 47,
     "metadata": {},
     "output_type": "execute_result"
    }
   ],
   "source": [
    "df_map"
   ]
  },
  {
   "cell_type": "code",
   "execution_count": 42,
   "metadata": {},
   "outputs": [],
   "source": [
    "#df.to_csv(\"df_prog.csv\")"
   ]
  },
  {
   "cell_type": "code",
   "execution_count": 43,
   "metadata": {},
   "outputs": [
    {
     "ename": "NameError",
     "evalue": "name 'select_school' is not defined",
     "output_type": "error",
     "traceback": [
      "\u001b[0;31m---------------------------------------------------------------------------\u001b[0m",
      "\u001b[0;31mNameError\u001b[0m                                 Traceback (most recent call last)",
      "\u001b[1;32m/Users/tote/Desktop/Dashboards/df_programas.ipynb Cell 18\u001b[0m in \u001b[0;36m<cell line: 1>\u001b[0;34m()\u001b[0m\n\u001b[0;32m----> <a href='vscode-notebook-cell:/Users/tote/Desktop/Dashboards/df_programas.ipynb#X20sZmlsZQ%3D%3D?line=0'>1</a>\u001b[0m df_selection\u001b[39m=\u001b[39mdf\u001b[39m.\u001b[39mloc[(df[\u001b[39m'\u001b[39m\u001b[39mschool\u001b[39m\u001b[39m'\u001b[39m] \u001b[39m==\u001b[39m select_school) \u001b[39m&\u001b[39m\n\u001b[1;32m      <a href='vscode-notebook-cell:/Users/tote/Desktop/Dashboards/df_programas.ipynb#X20sZmlsZQ%3D%3D?line=1'>2</a>\u001b[0m                     (df[\u001b[39m'\u001b[39m\u001b[39mfirst_choice\u001b[39m\u001b[39m'\u001b[39m] \u001b[39m==\u001b[39m select_choice), \n\u001b[1;32m      <a href='vscode-notebook-cell:/Users/tote/Desktop/Dashboards/df_programas.ipynb#X20sZmlsZQ%3D%3D?line=2'>3</a>\u001b[0m                     [\u001b[39m'\u001b[39m\u001b[39mint_year\u001b[39m\u001b[39m'\u001b[39m,\u001b[39m'\u001b[39m\u001b[39mschool\u001b[39m\u001b[39m'\u001b[39m,\u001b[39m'\u001b[39m\u001b[39mfirst_choice\u001b[39m\u001b[39m'\u001b[39m,\u001b[39m'\u001b[39m\u001b[39mstatus\u001b[39m\u001b[39m'\u001b[39m]]\n",
      "\u001b[0;31mNameError\u001b[0m: name 'select_school' is not defined"
     ]
    }
   ],
   "source": [
    "\n",
    "df_selection=df.loc[(df['school'] == select_school) &\n",
    "                    (df['first_choice'] == select_choice), \n",
    "                    ['int_year','school','first_choice','status']]"
   ]
  },
  {
   "cell_type": "code",
   "execution_count": null,
   "metadata": {},
   "outputs": [
    {
     "data": {
      "text/html": [
       "<div>\n",
       "<style scoped>\n",
       "    .dataframe tbody tr th:only-of-type {\n",
       "        vertical-align: middle;\n",
       "    }\n",
       "\n",
       "    .dataframe tbody tr th {\n",
       "        vertical-align: top;\n",
       "    }\n",
       "\n",
       "    .dataframe thead th {\n",
       "        text-align: right;\n",
       "    }\n",
       "</style>\n",
       "<table border=\"1\" class=\"dataframe\">\n",
       "  <thead>\n",
       "    <tr style=\"text-align: right;\">\n",
       "      <th></th>\n",
       "      <th></th>\n",
       "      <th></th>\n",
       "      <th></th>\n",
       "      <th></th>\n",
       "      <th></th>\n",
       "      <th></th>\n",
       "      <th></th>\n",
       "      <th></th>\n",
       "      <th></th>\n",
       "      <th></th>\n",
       "      <th></th>\n",
       "      <th></th>\n",
       "      <th></th>\n",
       "      <th></th>\n",
       "      <th></th>\n",
       "      <th></th>\n",
       "      <th></th>\n",
       "      <th></th>\n",
       "      <th></th>\n",
       "      <th></th>\n",
       "      <th></th>\n",
       "      <th></th>\n",
       "      <th>0</th>\n",
       "    </tr>\n",
       "    <tr>\n",
       "      <th>int_year</th>\n",
       "      <th>id</th>\n",
       "      <th>student_id</th>\n",
       "      <th>last_name</th>\n",
       "      <th>campus</th>\n",
       "      <th>program</th>\n",
       "      <th>average</th>\n",
       "      <th>level</th>\n",
       "      <th>status</th>\n",
       "      <th>oportunity</th>\n",
       "      <th>university</th>\n",
       "      <th>academic_period</th>\n",
       "      <th>key</th>\n",
       "      <th>academic_program</th>\n",
       "      <th>academic_area</th>\n",
       "      <th>school</th>\n",
       "      <th>option_1</th>\n",
       "      <th>first_choice</th>\n",
       "      <th>country</th>\n",
       "      <th>type</th>\n",
       "      <th>continent</th>\n",
       "      <th>exchange</th>\n",
       "      <th>grade_letter</th>\n",
       "      <th></th>\n",
       "    </tr>\n",
       "  </thead>\n",
       "  <tbody>\n",
       "    <tr>\n",
       "      <th rowspan=\"5\" valign=\"top\">2014.0</th>\n",
       "      <th>39780</th>\n",
       "      <th>A01203997</th>\n",
       "      <th>Chimés</th>\n",
       "      <th>Querétaro</th>\n",
       "      <th>IMA07</th>\n",
       "      <th>80.363</th>\n",
       "      <th>Profesional</th>\n",
       "      <th>Asignada</th>\n",
       "      <th>ESP-5SA-033A</th>\n",
       "      <th>Universitat de Barcelona - CETT Escola Universitària d'Hoteleria i Turisme - Study Abroad Tradicional - Gestión y Planificación de Proyectos - Programa de Invierno</th>\n",
       "      <th>Invierno 2014</th>\n",
       "      <th>IMA07</th>\n",
       "      <th>Ingeniería Mecánico Administrador</th>\n",
       "      <th>Ingeniería y Ciencias</th>\n",
       "      <th>Ingeniería y Ciencias</th>\n",
       "      <th>ESP-5SA-033A</th>\n",
       "      <th>True</th>\n",
       "      <th>ESP</th>\n",
       "      <th>Otro</th>\n",
       "      <th>Europe</th>\n",
       "      <th>False</th>\n",
       "      <th>B</th>\n",
       "      <td>1</td>\n",
       "    </tr>\n",
       "    <tr>\n",
       "      <th>40521</th>\n",
       "      <th>A01226220</th>\n",
       "      <th>Villanueva</th>\n",
       "      <th>Guadalajara</th>\n",
       "      <th>LRI11</th>\n",
       "      <th>78.000</th>\n",
       "      <th>Profesional</th>\n",
       "      <th>Asignada - Pendiente enviar documentos</th>\n",
       "      <th>EUA-5INV-286</th>\n",
       "      <th>University of San Diego - Study Abroad Tradicional - Global Citizenship New York City - Programa de Invierno</th>\n",
       "      <th>Invierno 2014</th>\n",
       "      <th>LRI11</th>\n",
       "      <th>Licenciatura en Relaciones Internacionales</th>\n",
       "      <th>Derecho, Economía y Relaciones Internacionales</th>\n",
       "      <th>Ciencias Sociales y Gobierno</th>\n",
       "      <th>EUA-5INV-286</th>\n",
       "      <th>True</th>\n",
       "      <th>EUA</th>\n",
       "      <th>Otro</th>\n",
       "      <th>North America</th>\n",
       "      <th>False</th>\n",
       "      <th>C</th>\n",
       "      <td>1</td>\n",
       "    </tr>\n",
       "    <tr>\n",
       "      <th>51576</th>\n",
       "      <th>A01224649</th>\n",
       "      <th>Orozco</th>\n",
       "      <th>Guadalajara</th>\n",
       "      <th>ARQ11</th>\n",
       "      <th>90.727</th>\n",
       "      <th>Profesional</th>\n",
       "      <th>Asignada</th>\n",
       "      <th>EUA-5INV-286</th>\n",
       "      <th>University of San Diego - Study Abroad Tradicional - Global Citizenship New York City - Programa de Invierno</th>\n",
       "      <th>Invierno 2014</th>\n",
       "      <th>ARQ11</th>\n",
       "      <th>Arquitectura</th>\n",
       "      <th>Ambiente Construido</th>\n",
       "      <th>Arquitectura, Arte y Diseño</th>\n",
       "      <th>EUA-5INV-286</th>\n",
       "      <th>True</th>\n",
       "      <th>EUA</th>\n",
       "      <th>Otro</th>\n",
       "      <th>North America</th>\n",
       "      <th>False</th>\n",
       "      <th>A</th>\n",
       "      <td>1</td>\n",
       "    </tr>\n",
       "    <tr>\n",
       "      <th>53844</th>\n",
       "      <th>A01226584</th>\n",
       "      <th>Chávez</th>\n",
       "      <th>Monterrey</th>\n",
       "      <th>IMD11</th>\n",
       "      <th>83.468</th>\n",
       "      <th>Profesional</th>\n",
       "      <th>Asignada - Documentos en aprobación</th>\n",
       "      <th>ITA-5SA-020B</th>\n",
       "      <th>Università Cattolica del Sacro Cuore - Study Abroad Tradicional - Business, Government and the Global Economy - Programa de Iniverno</th>\n",
       "      <th>Invierno 2014</th>\n",
       "      <th>IMD11</th>\n",
       "      <th>Ingeniería Biomédico</th>\n",
       "      <th>Ingeniería y Ciencias</th>\n",
       "      <th>Ingeniería y Ciencias</th>\n",
       "      <th>ITA-5SA-020B</th>\n",
       "      <th>True</th>\n",
       "      <th>ITA</th>\n",
       "      <th>Otro</th>\n",
       "      <th>Europe</th>\n",
       "      <th>False</th>\n",
       "      <th>B</th>\n",
       "      <td>1</td>\n",
       "    </tr>\n",
       "    <tr>\n",
       "      <th>61165</th>\n",
       "      <th>A01020102</th>\n",
       "      <th>Tovar</th>\n",
       "      <th>Santa Fe</th>\n",
       "      <th>IDS11</th>\n",
       "      <th>81.159</th>\n",
       "      <th>Profesional</th>\n",
       "      <th>Asignada - Documentos aprobados</th>\n",
       "      <th>EUA-3SA-330A</th>\n",
       "      <th>Saint Anthony's High School - Study Abroad Tradicional - Nueva York: Ciudadanía y Responsabilidad Civil</th>\n",
       "      <th>Invierno 2014</th>\n",
       "      <th>IDS11</th>\n",
       "      <th>Ingeniería en Desarrollo Sustentable</th>\n",
       "      <th>Ingeniería y Ciencias</th>\n",
       "      <th>Ingeniería y Ciencias</th>\n",
       "      <th>EUA-3SA-330A</th>\n",
       "      <th>True</th>\n",
       "      <th>EUA</th>\n",
       "      <th>Otro</th>\n",
       "      <th>North America</th>\n",
       "      <th>False</th>\n",
       "      <th>B</th>\n",
       "      <td>1</td>\n",
       "    </tr>\n",
       "    <tr>\n",
       "      <th>...</th>\n",
       "      <th>...</th>\n",
       "      <th>...</th>\n",
       "      <th>...</th>\n",
       "      <th>...</th>\n",
       "      <th>...</th>\n",
       "      <th>...</th>\n",
       "      <th>...</th>\n",
       "      <th>...</th>\n",
       "      <th>...</th>\n",
       "      <th>...</th>\n",
       "      <th>...</th>\n",
       "      <th>...</th>\n",
       "      <th>...</th>\n",
       "      <th>...</th>\n",
       "      <th>...</th>\n",
       "      <th>...</th>\n",
       "      <th>...</th>\n",
       "      <th>...</th>\n",
       "      <th>...</th>\n",
       "      <th>...</th>\n",
       "      <th>...</th>\n",
       "      <th>...</th>\n",
       "      <td>...</td>\n",
       "    </tr>\n",
       "    <tr>\n",
       "      <th rowspan=\"5\" valign=\"top\">2022.0</th>\n",
       "      <th>449093</th>\n",
       "      <th>A01194132</th>\n",
       "      <th>Castro</th>\n",
       "      <th>Monterrey</th>\n",
       "      <th>BBA16</th>\n",
       "      <th>89.844</th>\n",
       "      <th>Profesional</th>\n",
       "      <th>Asignado</th>\n",
       "      <th>FRA-5DD-061B</th>\n",
       "      <th>ESC Rennes School of Business - Doble Grado - Primer Periodo</th>\n",
       "      <th>Febrero - Diciembre 2022 (Doble Grado)</th>\n",
       "      <th>BBA16</th>\n",
       "      <th>Licenciatura en Administración de Empresas</th>\n",
       "      <th>Negocios</th>\n",
       "      <th>Negocios</th>\n",
       "      <th>FRA-5DD-061B</th>\n",
       "      <th>True</th>\n",
       "      <th>FRA</th>\n",
       "      <th>Otro</th>\n",
       "      <th>Europe</th>\n",
       "      <th>False</th>\n",
       "      <th>B</th>\n",
       "      <td>1</td>\n",
       "    </tr>\n",
       "    <tr>\n",
       "      <th>450540</th>\n",
       "      <th>A01411727</th>\n",
       "      <th>Perea</th>\n",
       "      <th>Tampico</th>\n",
       "      <th>LAE16</th>\n",
       "      <th>85.920</th>\n",
       "      <th>Profesional</th>\n",
       "      <th>Asignado</th>\n",
       "      <th>ESP-5INT-085</th>\n",
       "      <th>Universidad de Sevilla - Intercambio Internacional Tradicional - Publicidad y Relaciones Públicas</th>\n",
       "      <th>Febrero - Junio 2022</th>\n",
       "      <th>LAE16</th>\n",
       "      <th>Licenciatura en Administración y Estrategia de Negocios</th>\n",
       "      <th>Negocios</th>\n",
       "      <th>Negocios</th>\n",
       "      <th>ESP-5INT-085</th>\n",
       "      <th>True</th>\n",
       "      <th>ESP</th>\n",
       "      <th>INT</th>\n",
       "      <th>Europe</th>\n",
       "      <th>True</th>\n",
       "      <th>B</th>\n",
       "      <td>1</td>\n",
       "    </tr>\n",
       "    <tr>\n",
       "      <th>450835</th>\n",
       "      <th>A01630745</th>\n",
       "      <th>Hernández</th>\n",
       "      <th>Guadalajara</th>\n",
       "      <th>IMD11</th>\n",
       "      <th>94.760</th>\n",
       "      <th>Profesional</th>\n",
       "      <th>Asignado</th>\n",
       "      <th>CAN-5EI-211U</th>\n",
       "      <th>Mitacs Globalink - Estancia de Investigación - Pre-selección</th>\n",
       "      <th>Agosto - Diciembre 2022 (Preselección)</th>\n",
       "      <th>IMD11</th>\n",
       "      <th>Ingeniería Biomédico</th>\n",
       "      <th>Ingeniería y Ciencias</th>\n",
       "      <th>Ingeniería y Ciencias</th>\n",
       "      <th>CAN-5EI-211U</th>\n",
       "      <th>True</th>\n",
       "      <th>CAN</th>\n",
       "      <th>Otro</th>\n",
       "      <th>North America</th>\n",
       "      <th>False</th>\n",
       "      <th>A</th>\n",
       "      <td>1</td>\n",
       "    </tr>\n",
       "    <tr>\n",
       "      <th>450898</th>\n",
       "      <th>A01631505</th>\n",
       "      <th>Borja</th>\n",
       "      <th>Guadalajara</th>\n",
       "      <th>IMD11</th>\n",
       "      <th>92.723</th>\n",
       "      <th>Profesional</th>\n",
       "      <th>Asignado</th>\n",
       "      <th>CAN-5EI-211U</th>\n",
       "      <th>Mitacs Globalink - Estancia de Investigación - Pre-selección</th>\n",
       "      <th>Agosto - Diciembre 2022 (Preselección)</th>\n",
       "      <th>IMD11</th>\n",
       "      <th>Ingeniería Biomédico</th>\n",
       "      <th>Ingeniería y Ciencias</th>\n",
       "      <th>Ingeniería y Ciencias</th>\n",
       "      <th>CAN-5EI-211U</th>\n",
       "      <th>True</th>\n",
       "      <th>CAN</th>\n",
       "      <th>Otro</th>\n",
       "      <th>North America</th>\n",
       "      <th>False</th>\n",
       "      <th>A</th>\n",
       "      <td>1</td>\n",
       "    </tr>\n",
       "    <tr>\n",
       "      <th>590858</th>\n",
       "      <th>A01610450</th>\n",
       "      <th>Cruz</th>\n",
       "      <th>San Luis Potosí</th>\n",
       "      <th>LIN11</th>\n",
       "      <th>94.000</th>\n",
       "      <th>Profesional</th>\n",
       "      <th>Asignado</th>\n",
       "      <th>CHN-5INT-237A</th>\n",
       "      <th>Xian Jiaotong-Liverpool University - Intercambio Internacional Tradicional</th>\n",
       "      <th>Agosto - Diciembre 2022</th>\n",
       "      <th>LIN11</th>\n",
       "      <th>Licenciatura en Negocios Internacionales</th>\n",
       "      <th>Negocios</th>\n",
       "      <th>Negocios</th>\n",
       "      <th>CHN-5INT-237A</th>\n",
       "      <th>True</th>\n",
       "      <th>CHN</th>\n",
       "      <th>INT</th>\n",
       "      <th>Asia</th>\n",
       "      <th>True</th>\n",
       "      <th>A</th>\n",
       "      <td>1</td>\n",
       "    </tr>\n",
       "  </tbody>\n",
       "</table>\n",
       "<p>15578 rows × 1 columns</p>\n",
       "</div>"
      ],
      "text/plain": [
       "                                                                                                                                                                                                                                                                                                                                                                                                                                                   0\n",
       "int_year id     student_id last_name  campus          program average level       status                                 oportunity    university                                         academic_period                        key   academic_program                                   academic_area                                  school                       option_1      first_choice country type continent     exchange grade_letter   \n",
       "2014.0   39780  A01203997  Chimés     Querétaro       IMA07   80.363  Profesional Asignada                               ESP-5SA-033A  Universitat de Barcelona - CETT Escola Universi... Invierno 2014                          IMA07 Ingeniería Mecánico Administrador                  Ingeniería y Ciencias                          Ingeniería y Ciencias        ESP-5SA-033A  True         ESP     Otro Europe        False    B             1\n",
       "         40521  A01226220  Villanueva Guadalajara     LRI11   78.000  Profesional Asignada - Pendiente enviar documentos EUA-5INV-286  University of San Diego - Study Abroad Tradicio... Invierno 2014                          LRI11 Licenciatura en Relaciones Internacionales         Derecho, Economía y Relaciones Internacionales Ciencias Sociales y Gobierno EUA-5INV-286  True         EUA     Otro North America False    C             1\n",
       "         51576  A01224649  Orozco     Guadalajara     ARQ11   90.727  Profesional Asignada                               EUA-5INV-286  University of San Diego - Study Abroad Tradicio... Invierno 2014                          ARQ11 Arquitectura                                       Ambiente Construido                            Arquitectura, Arte y Diseño  EUA-5INV-286  True         EUA     Otro North America False    A             1\n",
       "         53844  A01226584  Chávez     Monterrey       IMD11   83.468  Profesional Asignada - Documentos en aprobación    ITA-5SA-020B  Università Cattolica del Sacro Cuore - Study Ab... Invierno 2014                          IMD11 Ingeniería Biomédico                               Ingeniería y Ciencias                          Ingeniería y Ciencias        ITA-5SA-020B  True         ITA     Otro Europe        False    B             1\n",
       "         61165  A01020102  Tovar      Santa Fe        IDS11   81.159  Profesional Asignada - Documentos aprobados        EUA-3SA-330A  Saint Anthony's High School - Study Abroad Trad... Invierno 2014                          IDS11 Ingeniería en Desarrollo Sustentable               Ingeniería y Ciencias                          Ingeniería y Ciencias        EUA-3SA-330A  True         EUA     Otro North America False    B             1\n",
       "...                                                                                                                                                                                                                                                                                                                                                                                                                                               ..\n",
       "2022.0   449093 A01194132  Castro     Monterrey       BBA16   89.844  Profesional Asignado                               FRA-5DD-061B  ESC Rennes School of Business - Doble Grado - P... Febrero - Diciembre 2022 (Doble Grado) BBA16 Licenciatura en Administración de Empresas         Negocios                                       Negocios                     FRA-5DD-061B  True         FRA     Otro Europe        False    B             1\n",
       "         450540 A01411727  Perea      Tampico         LAE16   85.920  Profesional Asignado                               ESP-5INT-085  Universidad de Sevilla - Intercambio Internacio... Febrero - Junio 2022                   LAE16 Licenciatura en Administración y Estrategia de ... Negocios                                       Negocios                     ESP-5INT-085  True         ESP     INT  Europe        True     B             1\n",
       "         450835 A01630745  Hernández  Guadalajara     IMD11   94.760  Profesional Asignado                               CAN-5EI-211U  Mitacs Globalink - Estancia de Investigación - ... Agosto - Diciembre 2022 (Preselección) IMD11 Ingeniería Biomédico                               Ingeniería y Ciencias                          Ingeniería y Ciencias        CAN-5EI-211U  True         CAN     Otro North America False    A             1\n",
       "         450898 A01631505  Borja      Guadalajara     IMD11   92.723  Profesional Asignado                               CAN-5EI-211U  Mitacs Globalink - Estancia de Investigación - ... Agosto - Diciembre 2022 (Preselección) IMD11 Ingeniería Biomédico                               Ingeniería y Ciencias                          Ingeniería y Ciencias        CAN-5EI-211U  True         CAN     Otro North America False    A             1\n",
       "         590858 A01610450  Cruz       San Luis Potosí LIN11   94.000  Profesional Asignado                               CHN-5INT-237A Xian Jiaotong-Liverpool University - Intercamb... Agosto - Diciembre 2022                LIN11 Licenciatura en Negocios Internacionales           Negocios                                       Negocios                     CHN-5INT-237A True         CHN     INT  Asia          True     A             1\n",
       "\n",
       "[15578 rows x 1 columns]"
      ]
     },
     "execution_count": 60,
     "metadata": {},
     "output_type": "execute_result"
    }
   ],
   "source": [
    "df_selection=df.groupby('int_year', group_keys=False).value_counts()\n",
    "\n",
    "df_selection=pd.DataFrame(df_selection)\n",
    "\n",
    "df_selection"
   ]
  },
  {
   "cell_type": "code",
   "execution_count": null,
   "metadata": {},
   "outputs": [
    {
     "data": {
      "text/plain": [
       "True     15805\n",
       "False     1035\n",
       "Name: first_choice, dtype: int64"
      ]
     },
     "execution_count": 55,
     "metadata": {},
     "output_type": "execute_result"
    }
   ],
   "source": [
    "df_choice=df['first_choice'].value_counts()\n",
    "df_choice"
   ]
  },
  {
   "cell_type": "code",
   "execution_count": null,
   "metadata": {},
   "outputs": [
    {
     "data": {
      "text/plain": [
       "2754"
      ]
     },
     "execution_count": 20,
     "metadata": {},
     "output_type": "execute_result"
    }
   ],
   "source": [
    "intercambio = (df['type'] == 'INT').sum() \n",
    "intercambio"
   ]
  },
  {
   "cell_type": "code",
   "execution_count": null,
   "metadata": {},
   "outputs": [
    {
     "data": {
      "text/plain": [
       "Europe           13955\n",
       "North America     8248\n",
       "South America     1534\n",
       "Asia               915\n",
       "Oceania            872\n",
       "Name: continent, dtype: int64"
      ]
     },
     "execution_count": 22,
     "metadata": {},
     "output_type": "execute_result"
    }
   ],
   "source": [
    "continent_total=df['continent'].value_counts()\n",
    "continent_total\n"
   ]
  },
  {
   "cell_type": "code",
   "execution_count": null,
   "metadata": {},
   "outputs": [
    {
     "data": {
      "text/plain": [
       "87.35"
      ]
     },
     "execution_count": 23,
     "metadata": {},
     "output_type": "execute_result"
    }
   ],
   "source": [
    "calificaciones=round(df['average'].mean(),2)\n",
    "calificaciones"
   ]
  },
  {
   "cell_type": "code",
   "execution_count": null,
   "metadata": {},
   "outputs": [
    {
     "data": {
      "text/plain": [
       "False    22770\n",
       "True      2754\n",
       "Name: exchange, dtype: int64"
      ]
     },
     "execution_count": 24,
     "metadata": {},
     "output_type": "execute_result"
    }
   ],
   "source": [
    "exchange_count=df['exchange'].value_counts()\n",
    "exchange_count"
   ]
  },
  {
   "cell_type": "code",
   "execution_count": null,
   "metadata": {},
   "outputs": [
    {
     "data": {
      "text/plain": [
       "10.78984485190409"
      ]
     },
     "execution_count": 27,
     "metadata": {},
     "output_type": "execute_result"
    }
   ],
   "source": [
    "exchange_percentage=2754/(22770+2754)*100\n",
    "exchange_percentage"
   ]
  },
  {
   "cell_type": "code",
   "execution_count": null,
   "metadata": {},
   "outputs": [
    {
     "data": {
      "text/plain": [
       "True     23885\n",
       "False     1639\n",
       "Name: first_choice, dtype: int64"
      ]
     },
     "execution_count": 26,
     "metadata": {},
     "output_type": "execute_result"
    }
   ],
   "source": [
    "primer_op=df['first_choice'].value_counts()\n",
    "primer_op"
   ]
  },
  {
   "cell_type": "code",
   "execution_count": null,
   "metadata": {},
   "outputs": [
    {
     "data": {
      "text/plain": [
       "93.57859269706942"
      ]
     },
     "execution_count": 28,
     "metadata": {},
     "output_type": "execute_result"
    }
   ],
   "source": [
    "primer_op_por=23885/(23885+1639)*100\n",
    "primer_op_por"
   ]
  },
  {
   "cell_type": "code",
   "execution_count": null,
   "metadata": {},
   "outputs": [
    {
     "data": {
      "text/html": [
       "<div>\n",
       "<style scoped>\n",
       "    .dataframe tbody tr th:only-of-type {\n",
       "        vertical-align: middle;\n",
       "    }\n",
       "\n",
       "    .dataframe tbody tr th {\n",
       "        vertical-align: top;\n",
       "    }\n",
       "\n",
       "    .dataframe thead th {\n",
       "        text-align: right;\n",
       "    }\n",
       "</style>\n",
       "<table border=\"1\" class=\"dataframe\">\n",
       "  <thead>\n",
       "    <tr style=\"text-align: right;\">\n",
       "      <th></th>\n",
       "      <th>Bool</th>\n",
       "      <th>Count</th>\n",
       "    </tr>\n",
       "  </thead>\n",
       "  <tbody>\n",
       "    <tr>\n",
       "      <th>0</th>\n",
       "      <td>True</td>\n",
       "      <td>23885</td>\n",
       "    </tr>\n",
       "    <tr>\n",
       "      <th>1</th>\n",
       "      <td>False</td>\n",
       "      <td>1639</td>\n",
       "    </tr>\n",
       "  </tbody>\n",
       "</table>\n",
       "</div>"
      ],
      "text/plain": [
       "    Bool  Count\n",
       "0   True  23885\n",
       "1  False   1639"
      ]
     },
     "execution_count": 41,
     "metadata": {},
     "output_type": "execute_result"
    }
   ],
   "source": [
    "data=[['True',23885],['False',1639]]\n",
    "df_pr_op=pd.DataFrame(data,columns=['Bool','Count'])\n",
    "df_pr_op"
   ]
  },
  {
   "cell_type": "code",
   "execution_count": null,
   "metadata": {},
   "outputs": [
    {
     "data": {
      "application/vnd.plotly.v1+json": {
       "config": {
        "plotlyServerURL": "https://plot.ly"
       },
       "data": [
        {
         "customdata": [
          [
           "True"
          ],
          [
           "False"
          ]
         ],
         "domain": {
          "x": [
           0,
           1
          ],
          "y": [
           0,
           1
          ]
         },
         "hole": 0.4,
         "hovertemplate": "label=%{label}<br>Count=%{value}<br>Bool=%{customdata[0]}<extra></extra>",
         "labels": [
          "1st choice",
          "Otros"
         ],
         "legendgroup": "",
         "marker": {
          "colors": [
           "#DE3163",
           "#FFB6C1"
          ],
          "line": {
           "color": "#DE3163",
           "width": 3
          }
         },
         "name": "",
         "opacity": 0.8,
         "rotation": 80,
         "showlegend": true,
         "textposition": "outside",
         "type": "pie",
         "values": [
          23885,
          1639
         ]
        }
       ],
       "layout": {
        "legend": {
         "tracegroupgap": 0
        },
        "margin": {
         "t": 60
        },
        "template": {
         "data": {
          "bar": [
           {
            "error_x": {
             "color": "#2a3f5f"
            },
            "error_y": {
             "color": "#2a3f5f"
            },
            "marker": {
             "line": {
              "color": "white",
              "width": 0.5
             },
             "pattern": {
              "fillmode": "overlay",
              "size": 10,
              "solidity": 0.2
             }
            },
            "type": "bar"
           }
          ],
          "barpolar": [
           {
            "marker": {
             "line": {
              "color": "white",
              "width": 0.5
             },
             "pattern": {
              "fillmode": "overlay",
              "size": 10,
              "solidity": 0.2
             }
            },
            "type": "barpolar"
           }
          ],
          "carpet": [
           {
            "aaxis": {
             "endlinecolor": "#2a3f5f",
             "gridcolor": "#C8D4E3",
             "linecolor": "#C8D4E3",
             "minorgridcolor": "#C8D4E3",
             "startlinecolor": "#2a3f5f"
            },
            "baxis": {
             "endlinecolor": "#2a3f5f",
             "gridcolor": "#C8D4E3",
             "linecolor": "#C8D4E3",
             "minorgridcolor": "#C8D4E3",
             "startlinecolor": "#2a3f5f"
            },
            "type": "carpet"
           }
          ],
          "choropleth": [
           {
            "colorbar": {
             "outlinewidth": 0,
             "ticks": ""
            },
            "type": "choropleth"
           }
          ],
          "contour": [
           {
            "colorbar": {
             "outlinewidth": 0,
             "ticks": ""
            },
            "colorscale": [
             [
              0,
              "#0d0887"
             ],
             [
              0.1111111111111111,
              "#46039f"
             ],
             [
              0.2222222222222222,
              "#7201a8"
             ],
             [
              0.3333333333333333,
              "#9c179e"
             ],
             [
              0.4444444444444444,
              "#bd3786"
             ],
             [
              0.5555555555555556,
              "#d8576b"
             ],
             [
              0.6666666666666666,
              "#ed7953"
             ],
             [
              0.7777777777777778,
              "#fb9f3a"
             ],
             [
              0.8888888888888888,
              "#fdca26"
             ],
             [
              1,
              "#f0f921"
             ]
            ],
            "type": "contour"
           }
          ],
          "contourcarpet": [
           {
            "colorbar": {
             "outlinewidth": 0,
             "ticks": ""
            },
            "type": "contourcarpet"
           }
          ],
          "heatmap": [
           {
            "colorbar": {
             "outlinewidth": 0,
             "ticks": ""
            },
            "colorscale": [
             [
              0,
              "#0d0887"
             ],
             [
              0.1111111111111111,
              "#46039f"
             ],
             [
              0.2222222222222222,
              "#7201a8"
             ],
             [
              0.3333333333333333,
              "#9c179e"
             ],
             [
              0.4444444444444444,
              "#bd3786"
             ],
             [
              0.5555555555555556,
              "#d8576b"
             ],
             [
              0.6666666666666666,
              "#ed7953"
             ],
             [
              0.7777777777777778,
              "#fb9f3a"
             ],
             [
              0.8888888888888888,
              "#fdca26"
             ],
             [
              1,
              "#f0f921"
             ]
            ],
            "type": "heatmap"
           }
          ],
          "heatmapgl": [
           {
            "colorbar": {
             "outlinewidth": 0,
             "ticks": ""
            },
            "colorscale": [
             [
              0,
              "#0d0887"
             ],
             [
              0.1111111111111111,
              "#46039f"
             ],
             [
              0.2222222222222222,
              "#7201a8"
             ],
             [
              0.3333333333333333,
              "#9c179e"
             ],
             [
              0.4444444444444444,
              "#bd3786"
             ],
             [
              0.5555555555555556,
              "#d8576b"
             ],
             [
              0.6666666666666666,
              "#ed7953"
             ],
             [
              0.7777777777777778,
              "#fb9f3a"
             ],
             [
              0.8888888888888888,
              "#fdca26"
             ],
             [
              1,
              "#f0f921"
             ]
            ],
            "type": "heatmapgl"
           }
          ],
          "histogram": [
           {
            "marker": {
             "pattern": {
              "fillmode": "overlay",
              "size": 10,
              "solidity": 0.2
             }
            },
            "type": "histogram"
           }
          ],
          "histogram2d": [
           {
            "colorbar": {
             "outlinewidth": 0,
             "ticks": ""
            },
            "colorscale": [
             [
              0,
              "#0d0887"
             ],
             [
              0.1111111111111111,
              "#46039f"
             ],
             [
              0.2222222222222222,
              "#7201a8"
             ],
             [
              0.3333333333333333,
              "#9c179e"
             ],
             [
              0.4444444444444444,
              "#bd3786"
             ],
             [
              0.5555555555555556,
              "#d8576b"
             ],
             [
              0.6666666666666666,
              "#ed7953"
             ],
             [
              0.7777777777777778,
              "#fb9f3a"
             ],
             [
              0.8888888888888888,
              "#fdca26"
             ],
             [
              1,
              "#f0f921"
             ]
            ],
            "type": "histogram2d"
           }
          ],
          "histogram2dcontour": [
           {
            "colorbar": {
             "outlinewidth": 0,
             "ticks": ""
            },
            "colorscale": [
             [
              0,
              "#0d0887"
             ],
             [
              0.1111111111111111,
              "#46039f"
             ],
             [
              0.2222222222222222,
              "#7201a8"
             ],
             [
              0.3333333333333333,
              "#9c179e"
             ],
             [
              0.4444444444444444,
              "#bd3786"
             ],
             [
              0.5555555555555556,
              "#d8576b"
             ],
             [
              0.6666666666666666,
              "#ed7953"
             ],
             [
              0.7777777777777778,
              "#fb9f3a"
             ],
             [
              0.8888888888888888,
              "#fdca26"
             ],
             [
              1,
              "#f0f921"
             ]
            ],
            "type": "histogram2dcontour"
           }
          ],
          "mesh3d": [
           {
            "colorbar": {
             "outlinewidth": 0,
             "ticks": ""
            },
            "type": "mesh3d"
           }
          ],
          "parcoords": [
           {
            "line": {
             "colorbar": {
              "outlinewidth": 0,
              "ticks": ""
             }
            },
            "type": "parcoords"
           }
          ],
          "pie": [
           {
            "automargin": true,
            "type": "pie"
           }
          ],
          "scatter": [
           {
            "fillpattern": {
             "fillmode": "overlay",
             "size": 10,
             "solidity": 0.2
            },
            "type": "scatter"
           }
          ],
          "scatter3d": [
           {
            "line": {
             "colorbar": {
              "outlinewidth": 0,
              "ticks": ""
             }
            },
            "marker": {
             "colorbar": {
              "outlinewidth": 0,
              "ticks": ""
             }
            },
            "type": "scatter3d"
           }
          ],
          "scattercarpet": [
           {
            "marker": {
             "colorbar": {
              "outlinewidth": 0,
              "ticks": ""
             }
            },
            "type": "scattercarpet"
           }
          ],
          "scattergeo": [
           {
            "marker": {
             "colorbar": {
              "outlinewidth": 0,
              "ticks": ""
             }
            },
            "type": "scattergeo"
           }
          ],
          "scattergl": [
           {
            "marker": {
             "colorbar": {
              "outlinewidth": 0,
              "ticks": ""
             }
            },
            "type": "scattergl"
           }
          ],
          "scattermapbox": [
           {
            "marker": {
             "colorbar": {
              "outlinewidth": 0,
              "ticks": ""
             }
            },
            "type": "scattermapbox"
           }
          ],
          "scatterpolar": [
           {
            "marker": {
             "colorbar": {
              "outlinewidth": 0,
              "ticks": ""
             }
            },
            "type": "scatterpolar"
           }
          ],
          "scatterpolargl": [
           {
            "marker": {
             "colorbar": {
              "outlinewidth": 0,
              "ticks": ""
             }
            },
            "type": "scatterpolargl"
           }
          ],
          "scatterternary": [
           {
            "marker": {
             "colorbar": {
              "outlinewidth": 0,
              "ticks": ""
             }
            },
            "type": "scatterternary"
           }
          ],
          "surface": [
           {
            "colorbar": {
             "outlinewidth": 0,
             "ticks": ""
            },
            "colorscale": [
             [
              0,
              "#0d0887"
             ],
             [
              0.1111111111111111,
              "#46039f"
             ],
             [
              0.2222222222222222,
              "#7201a8"
             ],
             [
              0.3333333333333333,
              "#9c179e"
             ],
             [
              0.4444444444444444,
              "#bd3786"
             ],
             [
              0.5555555555555556,
              "#d8576b"
             ],
             [
              0.6666666666666666,
              "#ed7953"
             ],
             [
              0.7777777777777778,
              "#fb9f3a"
             ],
             [
              0.8888888888888888,
              "#fdca26"
             ],
             [
              1,
              "#f0f921"
             ]
            ],
            "type": "surface"
           }
          ],
          "table": [
           {
            "cells": {
             "fill": {
              "color": "#EBF0F8"
             },
             "line": {
              "color": "white"
             }
            },
            "header": {
             "fill": {
              "color": "#C8D4E3"
             },
             "line": {
              "color": "white"
             }
            },
            "type": "table"
           }
          ]
         },
         "layout": {
          "annotationdefaults": {
           "arrowcolor": "#2a3f5f",
           "arrowhead": 0,
           "arrowwidth": 1
          },
          "autotypenumbers": "strict",
          "coloraxis": {
           "colorbar": {
            "outlinewidth": 0,
            "ticks": ""
           }
          },
          "colorscale": {
           "diverging": [
            [
             0,
             "#8e0152"
            ],
            [
             0.1,
             "#c51b7d"
            ],
            [
             0.2,
             "#de77ae"
            ],
            [
             0.3,
             "#f1b6da"
            ],
            [
             0.4,
             "#fde0ef"
            ],
            [
             0.5,
             "#f7f7f7"
            ],
            [
             0.6,
             "#e6f5d0"
            ],
            [
             0.7,
             "#b8e186"
            ],
            [
             0.8,
             "#7fbc41"
            ],
            [
             0.9,
             "#4d9221"
            ],
            [
             1,
             "#276419"
            ]
           ],
           "sequential": [
            [
             0,
             "#0d0887"
            ],
            [
             0.1111111111111111,
             "#46039f"
            ],
            [
             0.2222222222222222,
             "#7201a8"
            ],
            [
             0.3333333333333333,
             "#9c179e"
            ],
            [
             0.4444444444444444,
             "#bd3786"
            ],
            [
             0.5555555555555556,
             "#d8576b"
            ],
            [
             0.6666666666666666,
             "#ed7953"
            ],
            [
             0.7777777777777778,
             "#fb9f3a"
            ],
            [
             0.8888888888888888,
             "#fdca26"
            ],
            [
             1,
             "#f0f921"
            ]
           ],
           "sequentialminus": [
            [
             0,
             "#0d0887"
            ],
            [
             0.1111111111111111,
             "#46039f"
            ],
            [
             0.2222222222222222,
             "#7201a8"
            ],
            [
             0.3333333333333333,
             "#9c179e"
            ],
            [
             0.4444444444444444,
             "#bd3786"
            ],
            [
             0.5555555555555556,
             "#d8576b"
            ],
            [
             0.6666666666666666,
             "#ed7953"
            ],
            [
             0.7777777777777778,
             "#fb9f3a"
            ],
            [
             0.8888888888888888,
             "#fdca26"
            ],
            [
             1,
             "#f0f921"
            ]
           ]
          },
          "colorway": [
           "#636efa",
           "#EF553B",
           "#00cc96",
           "#ab63fa",
           "#FFA15A",
           "#19d3f3",
           "#FF6692",
           "#B6E880",
           "#FF97FF",
           "#FECB52"
          ],
          "font": {
           "color": "#2a3f5f"
          },
          "geo": {
           "bgcolor": "white",
           "lakecolor": "white",
           "landcolor": "white",
           "showlakes": true,
           "showland": true,
           "subunitcolor": "#C8D4E3"
          },
          "hoverlabel": {
           "align": "left"
          },
          "hovermode": "closest",
          "mapbox": {
           "style": "light"
          },
          "paper_bgcolor": "white",
          "plot_bgcolor": "white",
          "polar": {
           "angularaxis": {
            "gridcolor": "#EBF0F8",
            "linecolor": "#EBF0F8",
            "ticks": ""
           },
           "bgcolor": "white",
           "radialaxis": {
            "gridcolor": "#EBF0F8",
            "linecolor": "#EBF0F8",
            "ticks": ""
           }
          },
          "scene": {
           "xaxis": {
            "backgroundcolor": "white",
            "gridcolor": "#DFE8F3",
            "gridwidth": 2,
            "linecolor": "#EBF0F8",
            "showbackground": true,
            "ticks": "",
            "zerolinecolor": "#EBF0F8"
           },
           "yaxis": {
            "backgroundcolor": "white",
            "gridcolor": "#DFE8F3",
            "gridwidth": 2,
            "linecolor": "#EBF0F8",
            "showbackground": true,
            "ticks": "",
            "zerolinecolor": "#EBF0F8"
           },
           "zaxis": {
            "backgroundcolor": "white",
            "gridcolor": "#DFE8F3",
            "gridwidth": 2,
            "linecolor": "#EBF0F8",
            "showbackground": true,
            "ticks": "",
            "zerolinecolor": "#EBF0F8"
           }
          },
          "shapedefaults": {
           "line": {
            "color": "#2a3f5f"
           }
          },
          "ternary": {
           "aaxis": {
            "gridcolor": "#DFE8F3",
            "linecolor": "#A2B1C6",
            "ticks": ""
           },
           "baxis": {
            "gridcolor": "#DFE8F3",
            "linecolor": "#A2B1C6",
            "ticks": ""
           },
           "bgcolor": "white",
           "caxis": {
            "gridcolor": "#DFE8F3",
            "linecolor": "#A2B1C6",
            "ticks": ""
           }
          },
          "title": {
           "x": 0.05
          },
          "xaxis": {
           "automargin": true,
           "gridcolor": "#EBF0F8",
           "linecolor": "#EBF0F8",
           "ticks": "",
           "title": {
            "standoff": 15
           },
           "zerolinecolor": "#EBF0F8",
           "zerolinewidth": 2
          },
          "yaxis": {
           "automargin": true,
           "gridcolor": "#EBF0F8",
           "linecolor": "#EBF0F8",
           "ticks": "",
           "title": {
            "standoff": 15
           },
           "zerolinecolor": "#EBF0F8",
           "zerolinewidth": 2
          }
         }
        }
       }
      }
     },
     "metadata": {},
     "output_type": "display_data"
    }
   ],
   "source": [
    "import plotly.express as px\n",
    "import plotly.io as pio\n",
    "import plotly.graph_objects as go\n",
    "\n",
    "\n",
    "names=['1st choice','Otros']\n",
    "fig=px.pie(data_frame=df_pr_op, values='Count',\n",
    "names=names,color='Bool',color_discrete_map={'True':'#DE3163','False':'#FFB6C1'},template='plotly_white',hole=.4)\n",
    "\n",
    "fig.update_traces(textposition='outside',marker=dict(line=dict(color='#DE3163',width=3)),opacity=0.8,rotation=80)\n",
    "fig.show()"
   ]
  },
  {
   "cell_type": "code",
   "execution_count": null,
   "metadata": {},
   "outputs": [
    {
     "data": {
      "application/vnd.plotly.v1+json": {
       "config": {
        "plotlyServerURL": "https://plot.ly"
       },
       "data": [
        {
         "customdata": [
          [
           "1st choice"
          ],
          [
           "Otros"
          ]
         ],
         "domain": {
          "x": [
           0,
           1
          ],
          "y": [
           0,
           1
          ]
         },
         "hole": 0.4,
         "hovertemplate": "label=%{label}<br>value=%{value}<br>color=%{customdata[0]}<extra></extra>",
         "labels": [
          "1st choice",
          "Otros"
         ],
         "legendgroup": "",
         "marker": {
          "colors": [
           "#DE3163",
           "#FFB6C1"
          ],
          "line": {
           "color": "#DE3163",
           "width": 3
          }
         },
         "name": "",
         "opacity": 0.8,
         "rotation": 80,
         "showlegend": true,
         "textposition": "outside",
         "type": "pie",
         "values": [
          23885,
          1639
         ]
        }
       ],
       "layout": {
        "legend": {
         "tracegroupgap": 0
        },
        "margin": {
         "t": 60
        },
        "template": {
         "data": {
          "bar": [
           {
            "error_x": {
             "color": "#2a3f5f"
            },
            "error_y": {
             "color": "#2a3f5f"
            },
            "marker": {
             "line": {
              "color": "white",
              "width": 0.5
             },
             "pattern": {
              "fillmode": "overlay",
              "size": 10,
              "solidity": 0.2
             }
            },
            "type": "bar"
           }
          ],
          "barpolar": [
           {
            "marker": {
             "line": {
              "color": "white",
              "width": 0.5
             },
             "pattern": {
              "fillmode": "overlay",
              "size": 10,
              "solidity": 0.2
             }
            },
            "type": "barpolar"
           }
          ],
          "carpet": [
           {
            "aaxis": {
             "endlinecolor": "#2a3f5f",
             "gridcolor": "#C8D4E3",
             "linecolor": "#C8D4E3",
             "minorgridcolor": "#C8D4E3",
             "startlinecolor": "#2a3f5f"
            },
            "baxis": {
             "endlinecolor": "#2a3f5f",
             "gridcolor": "#C8D4E3",
             "linecolor": "#C8D4E3",
             "minorgridcolor": "#C8D4E3",
             "startlinecolor": "#2a3f5f"
            },
            "type": "carpet"
           }
          ],
          "choropleth": [
           {
            "colorbar": {
             "outlinewidth": 0,
             "ticks": ""
            },
            "type": "choropleth"
           }
          ],
          "contour": [
           {
            "colorbar": {
             "outlinewidth": 0,
             "ticks": ""
            },
            "colorscale": [
             [
              0,
              "#0d0887"
             ],
             [
              0.1111111111111111,
              "#46039f"
             ],
             [
              0.2222222222222222,
              "#7201a8"
             ],
             [
              0.3333333333333333,
              "#9c179e"
             ],
             [
              0.4444444444444444,
              "#bd3786"
             ],
             [
              0.5555555555555556,
              "#d8576b"
             ],
             [
              0.6666666666666666,
              "#ed7953"
             ],
             [
              0.7777777777777778,
              "#fb9f3a"
             ],
             [
              0.8888888888888888,
              "#fdca26"
             ],
             [
              1,
              "#f0f921"
             ]
            ],
            "type": "contour"
           }
          ],
          "contourcarpet": [
           {
            "colorbar": {
             "outlinewidth": 0,
             "ticks": ""
            },
            "type": "contourcarpet"
           }
          ],
          "heatmap": [
           {
            "colorbar": {
             "outlinewidth": 0,
             "ticks": ""
            },
            "colorscale": [
             [
              0,
              "#0d0887"
             ],
             [
              0.1111111111111111,
              "#46039f"
             ],
             [
              0.2222222222222222,
              "#7201a8"
             ],
             [
              0.3333333333333333,
              "#9c179e"
             ],
             [
              0.4444444444444444,
              "#bd3786"
             ],
             [
              0.5555555555555556,
              "#d8576b"
             ],
             [
              0.6666666666666666,
              "#ed7953"
             ],
             [
              0.7777777777777778,
              "#fb9f3a"
             ],
             [
              0.8888888888888888,
              "#fdca26"
             ],
             [
              1,
              "#f0f921"
             ]
            ],
            "type": "heatmap"
           }
          ],
          "heatmapgl": [
           {
            "colorbar": {
             "outlinewidth": 0,
             "ticks": ""
            },
            "colorscale": [
             [
              0,
              "#0d0887"
             ],
             [
              0.1111111111111111,
              "#46039f"
             ],
             [
              0.2222222222222222,
              "#7201a8"
             ],
             [
              0.3333333333333333,
              "#9c179e"
             ],
             [
              0.4444444444444444,
              "#bd3786"
             ],
             [
              0.5555555555555556,
              "#d8576b"
             ],
             [
              0.6666666666666666,
              "#ed7953"
             ],
             [
              0.7777777777777778,
              "#fb9f3a"
             ],
             [
              0.8888888888888888,
              "#fdca26"
             ],
             [
              1,
              "#f0f921"
             ]
            ],
            "type": "heatmapgl"
           }
          ],
          "histogram": [
           {
            "marker": {
             "pattern": {
              "fillmode": "overlay",
              "size": 10,
              "solidity": 0.2
             }
            },
            "type": "histogram"
           }
          ],
          "histogram2d": [
           {
            "colorbar": {
             "outlinewidth": 0,
             "ticks": ""
            },
            "colorscale": [
             [
              0,
              "#0d0887"
             ],
             [
              0.1111111111111111,
              "#46039f"
             ],
             [
              0.2222222222222222,
              "#7201a8"
             ],
             [
              0.3333333333333333,
              "#9c179e"
             ],
             [
              0.4444444444444444,
              "#bd3786"
             ],
             [
              0.5555555555555556,
              "#d8576b"
             ],
             [
              0.6666666666666666,
              "#ed7953"
             ],
             [
              0.7777777777777778,
              "#fb9f3a"
             ],
             [
              0.8888888888888888,
              "#fdca26"
             ],
             [
              1,
              "#f0f921"
             ]
            ],
            "type": "histogram2d"
           }
          ],
          "histogram2dcontour": [
           {
            "colorbar": {
             "outlinewidth": 0,
             "ticks": ""
            },
            "colorscale": [
             [
              0,
              "#0d0887"
             ],
             [
              0.1111111111111111,
              "#46039f"
             ],
             [
              0.2222222222222222,
              "#7201a8"
             ],
             [
              0.3333333333333333,
              "#9c179e"
             ],
             [
              0.4444444444444444,
              "#bd3786"
             ],
             [
              0.5555555555555556,
              "#d8576b"
             ],
             [
              0.6666666666666666,
              "#ed7953"
             ],
             [
              0.7777777777777778,
              "#fb9f3a"
             ],
             [
              0.8888888888888888,
              "#fdca26"
             ],
             [
              1,
              "#f0f921"
             ]
            ],
            "type": "histogram2dcontour"
           }
          ],
          "mesh3d": [
           {
            "colorbar": {
             "outlinewidth": 0,
             "ticks": ""
            },
            "type": "mesh3d"
           }
          ],
          "parcoords": [
           {
            "line": {
             "colorbar": {
              "outlinewidth": 0,
              "ticks": ""
             }
            },
            "type": "parcoords"
           }
          ],
          "pie": [
           {
            "automargin": true,
            "type": "pie"
           }
          ],
          "scatter": [
           {
            "fillpattern": {
             "fillmode": "overlay",
             "size": 10,
             "solidity": 0.2
            },
            "type": "scatter"
           }
          ],
          "scatter3d": [
           {
            "line": {
             "colorbar": {
              "outlinewidth": 0,
              "ticks": ""
             }
            },
            "marker": {
             "colorbar": {
              "outlinewidth": 0,
              "ticks": ""
             }
            },
            "type": "scatter3d"
           }
          ],
          "scattercarpet": [
           {
            "marker": {
             "colorbar": {
              "outlinewidth": 0,
              "ticks": ""
             }
            },
            "type": "scattercarpet"
           }
          ],
          "scattergeo": [
           {
            "marker": {
             "colorbar": {
              "outlinewidth": 0,
              "ticks": ""
             }
            },
            "type": "scattergeo"
           }
          ],
          "scattergl": [
           {
            "marker": {
             "colorbar": {
              "outlinewidth": 0,
              "ticks": ""
             }
            },
            "type": "scattergl"
           }
          ],
          "scattermapbox": [
           {
            "marker": {
             "colorbar": {
              "outlinewidth": 0,
              "ticks": ""
             }
            },
            "type": "scattermapbox"
           }
          ],
          "scatterpolar": [
           {
            "marker": {
             "colorbar": {
              "outlinewidth": 0,
              "ticks": ""
             }
            },
            "type": "scatterpolar"
           }
          ],
          "scatterpolargl": [
           {
            "marker": {
             "colorbar": {
              "outlinewidth": 0,
              "ticks": ""
             }
            },
            "type": "scatterpolargl"
           }
          ],
          "scatterternary": [
           {
            "marker": {
             "colorbar": {
              "outlinewidth": 0,
              "ticks": ""
             }
            },
            "type": "scatterternary"
           }
          ],
          "surface": [
           {
            "colorbar": {
             "outlinewidth": 0,
             "ticks": ""
            },
            "colorscale": [
             [
              0,
              "#0d0887"
             ],
             [
              0.1111111111111111,
              "#46039f"
             ],
             [
              0.2222222222222222,
              "#7201a8"
             ],
             [
              0.3333333333333333,
              "#9c179e"
             ],
             [
              0.4444444444444444,
              "#bd3786"
             ],
             [
              0.5555555555555556,
              "#d8576b"
             ],
             [
              0.6666666666666666,
              "#ed7953"
             ],
             [
              0.7777777777777778,
              "#fb9f3a"
             ],
             [
              0.8888888888888888,
              "#fdca26"
             ],
             [
              1,
              "#f0f921"
             ]
            ],
            "type": "surface"
           }
          ],
          "table": [
           {
            "cells": {
             "fill": {
              "color": "#EBF0F8"
             },
             "line": {
              "color": "white"
             }
            },
            "header": {
             "fill": {
              "color": "#C8D4E3"
             },
             "line": {
              "color": "white"
             }
            },
            "type": "table"
           }
          ]
         },
         "layout": {
          "annotationdefaults": {
           "arrowcolor": "#2a3f5f",
           "arrowhead": 0,
           "arrowwidth": 1
          },
          "autotypenumbers": "strict",
          "coloraxis": {
           "colorbar": {
            "outlinewidth": 0,
            "ticks": ""
           }
          },
          "colorscale": {
           "diverging": [
            [
             0,
             "#8e0152"
            ],
            [
             0.1,
             "#c51b7d"
            ],
            [
             0.2,
             "#de77ae"
            ],
            [
             0.3,
             "#f1b6da"
            ],
            [
             0.4,
             "#fde0ef"
            ],
            [
             0.5,
             "#f7f7f7"
            ],
            [
             0.6,
             "#e6f5d0"
            ],
            [
             0.7,
             "#b8e186"
            ],
            [
             0.8,
             "#7fbc41"
            ],
            [
             0.9,
             "#4d9221"
            ],
            [
             1,
             "#276419"
            ]
           ],
           "sequential": [
            [
             0,
             "#0d0887"
            ],
            [
             0.1111111111111111,
             "#46039f"
            ],
            [
             0.2222222222222222,
             "#7201a8"
            ],
            [
             0.3333333333333333,
             "#9c179e"
            ],
            [
             0.4444444444444444,
             "#bd3786"
            ],
            [
             0.5555555555555556,
             "#d8576b"
            ],
            [
             0.6666666666666666,
             "#ed7953"
            ],
            [
             0.7777777777777778,
             "#fb9f3a"
            ],
            [
             0.8888888888888888,
             "#fdca26"
            ],
            [
             1,
             "#f0f921"
            ]
           ],
           "sequentialminus": [
            [
             0,
             "#0d0887"
            ],
            [
             0.1111111111111111,
             "#46039f"
            ],
            [
             0.2222222222222222,
             "#7201a8"
            ],
            [
             0.3333333333333333,
             "#9c179e"
            ],
            [
             0.4444444444444444,
             "#bd3786"
            ],
            [
             0.5555555555555556,
             "#d8576b"
            ],
            [
             0.6666666666666666,
             "#ed7953"
            ],
            [
             0.7777777777777778,
             "#fb9f3a"
            ],
            [
             0.8888888888888888,
             "#fdca26"
            ],
            [
             1,
             "#f0f921"
            ]
           ]
          },
          "colorway": [
           "#636efa",
           "#EF553B",
           "#00cc96",
           "#ab63fa",
           "#FFA15A",
           "#19d3f3",
           "#FF6692",
           "#B6E880",
           "#FF97FF",
           "#FECB52"
          ],
          "font": {
           "color": "#2a3f5f"
          },
          "geo": {
           "bgcolor": "white",
           "lakecolor": "white",
           "landcolor": "white",
           "showlakes": true,
           "showland": true,
           "subunitcolor": "#C8D4E3"
          },
          "hoverlabel": {
           "align": "left"
          },
          "hovermode": "closest",
          "mapbox": {
           "style": "light"
          },
          "paper_bgcolor": "white",
          "plot_bgcolor": "white",
          "polar": {
           "angularaxis": {
            "gridcolor": "#EBF0F8",
            "linecolor": "#EBF0F8",
            "ticks": ""
           },
           "bgcolor": "white",
           "radialaxis": {
            "gridcolor": "#EBF0F8",
            "linecolor": "#EBF0F8",
            "ticks": ""
           }
          },
          "scene": {
           "xaxis": {
            "backgroundcolor": "white",
            "gridcolor": "#DFE8F3",
            "gridwidth": 2,
            "linecolor": "#EBF0F8",
            "showbackground": true,
            "ticks": "",
            "zerolinecolor": "#EBF0F8"
           },
           "yaxis": {
            "backgroundcolor": "white",
            "gridcolor": "#DFE8F3",
            "gridwidth": 2,
            "linecolor": "#EBF0F8",
            "showbackground": true,
            "ticks": "",
            "zerolinecolor": "#EBF0F8"
           },
           "zaxis": {
            "backgroundcolor": "white",
            "gridcolor": "#DFE8F3",
            "gridwidth": 2,
            "linecolor": "#EBF0F8",
            "showbackground": true,
            "ticks": "",
            "zerolinecolor": "#EBF0F8"
           }
          },
          "shapedefaults": {
           "line": {
            "color": "#2a3f5f"
           }
          },
          "ternary": {
           "aaxis": {
            "gridcolor": "#DFE8F3",
            "linecolor": "#A2B1C6",
            "ticks": ""
           },
           "baxis": {
            "gridcolor": "#DFE8F3",
            "linecolor": "#A2B1C6",
            "ticks": ""
           },
           "bgcolor": "white",
           "caxis": {
            "gridcolor": "#DFE8F3",
            "linecolor": "#A2B1C6",
            "ticks": ""
           }
          },
          "title": {
           "x": 0.05
          },
          "xaxis": {
           "automargin": true,
           "gridcolor": "#EBF0F8",
           "linecolor": "#EBF0F8",
           "ticks": "",
           "title": {
            "standoff": 15
           },
           "zerolinecolor": "#EBF0F8",
           "zerolinewidth": 2
          },
          "yaxis": {
           "automargin": true,
           "gridcolor": "#EBF0F8",
           "linecolor": "#EBF0F8",
           "ticks": "",
           "title": {
            "standoff": 15
           },
           "zerolinecolor": "#EBF0F8",
           "zerolinewidth": 2
          }
         }
        }
       }
      }
     },
     "metadata": {},
     "output_type": "display_data"
    }
   ],
   "source": [
    "import plotly.express as px\n",
    "import plotly.io as pio\n",
    "import plotly.graph_objects as go\n",
    "\n",
    "\n",
    "labels = ['1st choice','Otros']\n",
    "values = [23885,1639]\n",
    "\n",
    "fig=px.pie(values=values,\n",
    "names=labels,color=labels,color_discrete_map={'1st choice':'#DE3163','Otros':'#FFB6C1'},template='plotly_white',hole=.4)\n",
    "\n",
    "fig.update_traces(textposition='outside',marker=dict(line=dict(color='#DE3163',width=3)),opacity=0.8,rotation=80)\n",
    "fig.show()"
   ]
  },
  {
   "cell_type": "code",
   "execution_count": null,
   "metadata": {},
   "outputs": [
    {
     "ename": "ValueError",
     "evalue": "Invalid property specified for object of type plotly.graph_objs.Pie: 'colors'\n\nDid you mean \"hole\"?\n\n    Valid properties:\n        automargin\n            Determines whether outside text labels can push the\n            margins.\n        customdata\n            Assigns extra data each datum. This may be useful when\n            listening to hover, click and selection events. Note\n            that, \"scatter\" traces also appends customdata items in\n            the markers DOM elements\n        customdatasrc\n            Sets the source reference on Chart Studio Cloud for\n            `customdata`.\n        direction\n            Specifies the direction at which succeeding sectors\n            follow one another.\n        dlabel\n            Sets the label step. See `label0` for more info.\n        domain\n            :class:`plotly.graph_objects.pie.Domain` instance or\n            dict with compatible properties\n        hole\n            Sets the fraction of the radius to cut out of the pie.\n            Use this to make a donut chart.\n        hoverinfo\n            Determines which trace information appear on hover. If\n            `none` or `skip` are set, no information is displayed\n            upon hovering. But, if `none` is set, click and hover\n            events are still fired.\n        hoverinfosrc\n            Sets the source reference on Chart Studio Cloud for\n            `hoverinfo`.\n        hoverlabel\n            :class:`plotly.graph_objects.pie.Hoverlabel` instance\n            or dict with compatible properties\n        hovertemplate\n            Template string used for rendering the information that\n            appear on hover box. Note that this will override\n            `hoverinfo`. Variables are inserted using %{variable},\n            for example \"y: %{y}\" as well as %{xother}, {%_xother},\n            {%_xother_}, {%xother_}. When showing info for several\n            points, \"xother\" will be added to those with different\n            x positions from the first point. An underscore before\n            or after \"(x|y)other\" will add a space on that side,\n            only when this field is shown. Numbers are formatted\n            using d3-format's syntax %{variable:d3-format}, for\n            example \"Price: %{y:$.2f}\".\n            https://github.com/d3/d3-format/tree/v1.4.5#d3-format\n            for details on the formatting syntax. Dates are\n            formatted using d3-time-format's syntax\n            %{variable|d3-time-format}, for example \"Day:\n            %{2019-01-01|%A}\". https://github.com/d3/d3-time-\n            format/tree/v2.2.3#locale_format for details on the\n            date formatting syntax. The variables available in\n            `hovertemplate` are the ones emitted as event data\n            described at this link\n            https://plotly.com/javascript/plotlyjs-events/#event-\n            data. Additionally, every attributes that can be\n            specified per-point (the ones that are `arrayOk: true`)\n            are available. variables `label`, `color`, `value`,\n            `percent` and `text`. Anything contained in tag\n            `<extra>` is displayed in the secondary box, for\n            example \"<extra>{fullData.name}</extra>\". To hide the\n            secondary box completely, use an empty tag\n            `<extra></extra>`.\n        hovertemplatesrc\n            Sets the source reference on Chart Studio Cloud for\n            `hovertemplate`.\n        hovertext\n            Sets hover text elements associated with each sector.\n            If a single string, the same string appears for all\n            data points. If an array of string, the items are\n            mapped in order of this trace's sectors. To be seen,\n            trace `hoverinfo` must contain a \"text\" flag.\n        hovertextsrc\n            Sets the source reference on Chart Studio Cloud for\n            `hovertext`.\n        ids\n            Assigns id labels to each datum. These ids for object\n            constancy of data points during animation. Should be an\n            array of strings, not numbers or any other type.\n        idssrc\n            Sets the source reference on Chart Studio Cloud for\n            `ids`.\n        insidetextfont\n            Sets the font used for `textinfo` lying inside the\n            sector.\n        insidetextorientation\n            Controls the orientation of the text inside chart\n            sectors. When set to \"auto\", text may be oriented in\n            any direction in order to be as big as possible in the\n            middle of a sector. The \"horizontal\" option orients\n            text to be parallel with the bottom of the chart, and\n            may make text smaller in order to achieve that goal.\n            The \"radial\" option orients text along the radius of\n            the sector. The \"tangential\" option orients text\n            perpendicular to the radius of the sector.\n        label0\n            Alternate to `labels`. Builds a numeric set of labels.\n            Use with `dlabel` where `label0` is the starting label\n            and `dlabel` the step.\n        labels\n            Sets the sector labels. If `labels` entries are\n            duplicated, we sum associated `values` or simply count\n            occurrences if `values` is not provided. For other\n            array attributes (including color) we use the first\n            non-empty entry among all occurrences of the label.\n        labelssrc\n            Sets the source reference on Chart Studio Cloud for\n            `labels`.\n        legendgroup\n            Sets the legend group for this trace. Traces part of\n            the same legend group hide/show at the same time when\n            toggling legend items.\n        legendgrouptitle\n            :class:`plotly.graph_objects.pie.Legendgrouptitle`\n            instance or dict with compatible properties\n        legendrank\n            Sets the legend rank for this trace. Items and groups\n            with smaller ranks are presented on top/left side while\n            with `*reversed* `legend.traceorder` they are on\n            bottom/right side. The default legendrank is 1000, so\n            that you can use ranks less than 1000 to place certain\n            items before all unranked items, and ranks greater than\n            1000 to go after all unranked items.\n        legendwidth\n            Sets the width (in px or fraction) of the legend for\n            this trace.\n        marker\n            :class:`plotly.graph_objects.pie.Marker` instance or\n            dict with compatible properties\n        meta\n            Assigns extra meta information associated with this\n            trace that can be used in various text attributes.\n            Attributes such as trace `name`, graph, axis and\n            colorbar `title.text`, annotation `text`\n            `rangeselector`, `updatemenues` and `sliders` `label`\n            text all support `meta`. To access the trace `meta`\n            values in an attribute in the same trace, simply use\n            `%{meta[i]}` where `i` is the index or key of the\n            `meta` item in question. To access trace `meta` in\n            layout attributes, use `%{data[n[.meta[i]}` where `i`\n            is the index or key of the `meta` and `n` is the trace\n            index.\n        metasrc\n            Sets the source reference on Chart Studio Cloud for\n            `meta`.\n        name\n            Sets the trace name. The trace name appear as the\n            legend item and on hover.\n        opacity\n            Sets the opacity of the trace.\n        outsidetextfont\n            Sets the font used for `textinfo` lying outside the\n            sector.\n        pull\n            Sets the fraction of larger radius to pull the sectors\n            out from the center. This can be a constant to pull all\n            slices apart from each other equally or an array to\n            highlight one or more slices.\n        pullsrc\n            Sets the source reference on Chart Studio Cloud for\n            `pull`.\n        rotation\n            Instead of the first slice starting at 12 o'clock,\n            rotate to some other angle.\n        scalegroup\n            If there are multiple pie charts that should be sized\n            according to their totals, link them by providing a\n            non-empty group id here shared by every trace in the\n            same group.\n        showlegend\n            Determines whether or not an item corresponding to this\n            trace is shown in the legend.\n        sort\n            Determines whether or not the sectors are reordered\n            from largest to smallest.\n        stream\n            :class:`plotly.graph_objects.pie.Stream` instance or\n            dict with compatible properties\n        text\n            Sets text elements associated with each sector. If\n            trace `textinfo` contains a \"text\" flag, these elements\n            will be seen on the chart. If trace `hoverinfo`\n            contains a \"text\" flag and \"hovertext\" is not set,\n            these elements will be seen in the hover labels.\n        textfont\n            Sets the font used for `textinfo`.\n        textinfo\n            Determines which trace information appear on the graph.\n        textposition\n            Specifies the location of the `textinfo`.\n        textpositionsrc\n            Sets the source reference on Chart Studio Cloud for\n            `textposition`.\n        textsrc\n            Sets the source reference on Chart Studio Cloud for\n            `text`.\n        texttemplate\n            Template string used for rendering the information text\n            that appear on points. Note that this will override\n            `textinfo`. Variables are inserted using %{variable},\n            for example \"y: %{y}\". Numbers are formatted using\n            d3-format's syntax %{variable:d3-format}, for example\n            \"Price: %{y:$.2f}\".\n            https://github.com/d3/d3-format/tree/v1.4.5#d3-format\n            for details on the formatting syntax. Dates are\n            formatted using d3-time-format's syntax\n            %{variable|d3-time-format}, for example \"Day:\n            %{2019-01-01|%A}\". https://github.com/d3/d3-time-\n            format/tree/v2.2.3#locale_format for details on the\n            date formatting syntax. Every attributes that can be\n            specified per-point (the ones that are `arrayOk: true`)\n            are available. variables `label`, `color`, `value`,\n            `percent` and `text`.\n        texttemplatesrc\n            Sets the source reference on Chart Studio Cloud for\n            `texttemplate`.\n        title\n            :class:`plotly.graph_objects.pie.Title` instance or\n            dict with compatible properties\n        titlefont\n            Deprecated: Please use pie.title.font instead. Sets the\n            font used for `title`. Note that the title's font used\n            to be set by the now deprecated `titlefont` attribute.\n        titleposition\n            Deprecated: Please use pie.title.position instead.\n            Specifies the location of the `title`. Note that the\n            title's position used to be set by the now deprecated\n            `titleposition` attribute.\n        uid\n            Assign an id to this trace, Use this to provide object\n            constancy between traces during animations and\n            transitions.\n        uirevision\n            Controls persistence of some user-driven changes to the\n            trace: `constraintrange` in `parcoords` traces, as well\n            as some `editable: true` modifications such as `name`\n            and `colorbar.title`. Defaults to `layout.uirevision`.\n            Note that other user-driven trace attribute changes are\n            controlled by `layout` attributes: `trace.visible` is\n            controlled by `layout.legend.uirevision`,\n            `selectedpoints` is controlled by\n            `layout.selectionrevision`, and `colorbar.(x|y)`\n            (accessible with `config: {editable: true}`) is\n            controlled by `layout.editrevision`. Trace changes are\n            tracked by `uid`, which only falls back on trace index\n            if no `uid` is provided. So if your app can add/remove\n            traces before the end of the `data` array, such that\n            the same trace has a different index, you can still\n            preserve user-driven changes if you give each trace a\n            `uid` that stays with it as it moves.\n        values\n            Sets the values of the sectors. If omitted, we count\n            occurrences of each label.\n        valuessrc\n            Sets the source reference on Chart Studio Cloud for\n            `values`.\n        visible\n            Determines whether or not this trace is visible. If\n            \"legendonly\", the trace is not drawn, but can appear as\n            a legend item (provided that the legend itself is\n            visible).\n        \nDid you mean \"hole\"?\n\nBad property path:\ncolors\n^^^^^^",
     "output_type": "error",
     "traceback": [
      "\u001b[0;31m---------------------------------------------------------------------------\u001b[0m",
      "\u001b[0;31mValueError\u001b[0m                                Traceback (most recent call last)",
      "\u001b[1;32m/Users/tote/Desktop/Dashboards/df_programas.ipynb Cell 14\u001b[0m in \u001b[0;36m<cell line: 8>\u001b[0;34m()\u001b[0m\n\u001b[1;32m      <a href='vscode-notebook-cell:/Users/tote/Desktop/Dashboards/df_programas.ipynb#X16sZmlsZQ%3D%3D?line=4'>5</a>\u001b[0m colors \u001b[39m=\u001b[39m [\u001b[39m'\u001b[39m\u001b[39mrgb(255, 105, 180)\u001b[39m\u001b[39m'\u001b[39m,\u001b[39m'\u001b[39m\u001b[39mrgb(255, 182, 193)\u001b[39m\u001b[39m'\u001b[39m]\n\u001b[1;32m      <a href='vscode-notebook-cell:/Users/tote/Desktop/Dashboards/df_programas.ipynb#X16sZmlsZQ%3D%3D?line=6'>7</a>\u001b[0m \u001b[39m# Use `hole` to create a donut-like pie chart\u001b[39;00m\n\u001b[0;32m----> <a href='vscode-notebook-cell:/Users/tote/Desktop/Dashboards/df_programas.ipynb#X16sZmlsZQ%3D%3D?line=7'>8</a>\u001b[0m fig \u001b[39m=\u001b[39m go\u001b[39m.\u001b[39mFigure(data\u001b[39m=\u001b[39m[go\u001b[39m.\u001b[39;49mPie(labels\u001b[39m=\u001b[39;49mlabels, values\u001b[39m=\u001b[39;49mvalues, colors\u001b[39m=\u001b[39;49mcolors,hole\u001b[39m=\u001b[39;49m\u001b[39m.4\u001b[39;49m,)])\n\u001b[1;32m      <a href='vscode-notebook-cell:/Users/tote/Desktop/Dashboards/df_programas.ipynb#X16sZmlsZQ%3D%3D?line=8'>9</a>\u001b[0m fig\u001b[39m.\u001b[39mshow()\n",
      "File \u001b[0;32m/Library/Frameworks/Python.framework/Versions/3.10/lib/python3.10/site-packages/plotly/graph_objs/_pie.py:2415\u001b[0m, in \u001b[0;36mPie.__init__\u001b[0;34m(self, arg, automargin, customdata, customdatasrc, direction, dlabel, domain, hole, hoverinfo, hoverinfosrc, hoverlabel, hovertemplate, hovertemplatesrc, hovertext, hovertextsrc, ids, idssrc, insidetextfont, insidetextorientation, label0, labels, labelssrc, legendgroup, legendgrouptitle, legendrank, legendwidth, marker, meta, metasrc, name, opacity, outsidetextfont, pull, pullsrc, rotation, scalegroup, showlegend, sort, stream, text, textfont, textinfo, textposition, textpositionsrc, textsrc, texttemplate, texttemplatesrc, title, titlefont, titleposition, uid, uirevision, values, valuessrc, visible, **kwargs)\u001b[0m\n\u001b[1;32m   2411\u001b[0m arg\u001b[39m.\u001b[39mpop(\u001b[39m\"\u001b[39m\u001b[39mtype\u001b[39m\u001b[39m\"\u001b[39m, \u001b[39mNone\u001b[39;00m)\n\u001b[1;32m   2413\u001b[0m \u001b[39m# Process unknown kwargs\u001b[39;00m\n\u001b[1;32m   2414\u001b[0m \u001b[39m# ----------------------\u001b[39;00m\n\u001b[0;32m-> 2415\u001b[0m \u001b[39mself\u001b[39;49m\u001b[39m.\u001b[39;49m_process_kwargs(\u001b[39m*\u001b[39;49m\u001b[39m*\u001b[39;49m\u001b[39mdict\u001b[39;49m(arg, \u001b[39m*\u001b[39;49m\u001b[39m*\u001b[39;49mkwargs))\n\u001b[1;32m   2417\u001b[0m \u001b[39m# Reset skip_invalid\u001b[39;00m\n\u001b[1;32m   2418\u001b[0m \u001b[39m# ------------------\u001b[39;00m\n\u001b[1;32m   2419\u001b[0m \u001b[39mself\u001b[39m\u001b[39m.\u001b[39m_skip_invalid \u001b[39m=\u001b[39m \u001b[39mFalse\u001b[39;00m\n",
      "File \u001b[0;32m/Library/Frameworks/Python.framework/Versions/3.10/lib/python3.10/site-packages/plotly/basedatatypes.py:4377\u001b[0m, in \u001b[0;36mBasePlotlyType._process_kwargs\u001b[0;34m(self, **kwargs)\u001b[0m\n\u001b[1;32m   4375\u001b[0m     \u001b[39mself\u001b[39m[k] \u001b[39m=\u001b[39m v\n\u001b[1;32m   4376\u001b[0m \u001b[39melif\u001b[39;00m \u001b[39mnot\u001b[39;00m \u001b[39mself\u001b[39m\u001b[39m.\u001b[39m_skip_invalid:\n\u001b[0;32m-> 4377\u001b[0m     \u001b[39mraise\u001b[39;00m err\n",
      "\u001b[0;31mValueError\u001b[0m: Invalid property specified for object of type plotly.graph_objs.Pie: 'colors'\n\nDid you mean \"hole\"?\n\n    Valid properties:\n        automargin\n            Determines whether outside text labels can push the\n            margins.\n        customdata\n            Assigns extra data each datum. This may be useful when\n            listening to hover, click and selection events. Note\n            that, \"scatter\" traces also appends customdata items in\n            the markers DOM elements\n        customdatasrc\n            Sets the source reference on Chart Studio Cloud for\n            `customdata`.\n        direction\n            Specifies the direction at which succeeding sectors\n            follow one another.\n        dlabel\n            Sets the label step. See `label0` for more info.\n        domain\n            :class:`plotly.graph_objects.pie.Domain` instance or\n            dict with compatible properties\n        hole\n            Sets the fraction of the radius to cut out of the pie.\n            Use this to make a donut chart.\n        hoverinfo\n            Determines which trace information appear on hover. If\n            `none` or `skip` are set, no information is displayed\n            upon hovering. But, if `none` is set, click and hover\n            events are still fired.\n        hoverinfosrc\n            Sets the source reference on Chart Studio Cloud for\n            `hoverinfo`.\n        hoverlabel\n            :class:`plotly.graph_objects.pie.Hoverlabel` instance\n            or dict with compatible properties\n        hovertemplate\n            Template string used for rendering the information that\n            appear on hover box. Note that this will override\n            `hoverinfo`. Variables are inserted using %{variable},\n            for example \"y: %{y}\" as well as %{xother}, {%_xother},\n            {%_xother_}, {%xother_}. When showing info for several\n            points, \"xother\" will be added to those with different\n            x positions from the first point. An underscore before\n            or after \"(x|y)other\" will add a space on that side,\n            only when this field is shown. Numbers are formatted\n            using d3-format's syntax %{variable:d3-format}, for\n            example \"Price: %{y:$.2f}\".\n            https://github.com/d3/d3-format/tree/v1.4.5#d3-format\n            for details on the formatting syntax. Dates are\n            formatted using d3-time-format's syntax\n            %{variable|d3-time-format}, for example \"Day:\n            %{2019-01-01|%A}\". https://github.com/d3/d3-time-\n            format/tree/v2.2.3#locale_format for details on the\n            date formatting syntax. The variables available in\n            `hovertemplate` are the ones emitted as event data\n            described at this link\n            https://plotly.com/javascript/plotlyjs-events/#event-\n            data. Additionally, every attributes that can be\n            specified per-point (the ones that are `arrayOk: true`)\n            are available. variables `label`, `color`, `value`,\n            `percent` and `text`. Anything contained in tag\n            `<extra>` is displayed in the secondary box, for\n            example \"<extra>{fullData.name}</extra>\". To hide the\n            secondary box completely, use an empty tag\n            `<extra></extra>`.\n        hovertemplatesrc\n            Sets the source reference on Chart Studio Cloud for\n            `hovertemplate`.\n        hovertext\n            Sets hover text elements associated with each sector.\n            If a single string, the same string appears for all\n            data points. If an array of string, the items are\n            mapped in order of this trace's sectors. To be seen,\n            trace `hoverinfo` must contain a \"text\" flag.\n        hovertextsrc\n            Sets the source reference on Chart Studio Cloud for\n            `hovertext`.\n        ids\n            Assigns id labels to each datum. These ids for object\n            constancy of data points during animation. Should be an\n            array of strings, not numbers or any other type.\n        idssrc\n            Sets the source reference on Chart Studio Cloud for\n            `ids`.\n        insidetextfont\n            Sets the font used for `textinfo` lying inside the\n            sector.\n        insidetextorientation\n            Controls the orientation of the text inside chart\n            sectors. When set to \"auto\", text may be oriented in\n            any direction in order to be as big as possible in the\n            middle of a sector. The \"horizontal\" option orients\n            text to be parallel with the bottom of the chart, and\n            may make text smaller in order to achieve that goal.\n            The \"radial\" option orients text along the radius of\n            the sector. The \"tangential\" option orients text\n            perpendicular to the radius of the sector.\n        label0\n            Alternate to `labels`. Builds a numeric set of labels.\n            Use with `dlabel` where `label0` is the starting label\n            and `dlabel` the step.\n        labels\n            Sets the sector labels. If `labels` entries are\n            duplicated, we sum associated `values` or simply count\n            occurrences if `values` is not provided. For other\n            array attributes (including color) we use the first\n            non-empty entry among all occurrences of the label.\n        labelssrc\n            Sets the source reference on Chart Studio Cloud for\n            `labels`.\n        legendgroup\n            Sets the legend group for this trace. Traces part of\n            the same legend group hide/show at the same time when\n            toggling legend items.\n        legendgrouptitle\n            :class:`plotly.graph_objects.pie.Legendgrouptitle`\n            instance or dict with compatible properties\n        legendrank\n            Sets the legend rank for this trace. Items and groups\n            with smaller ranks are presented on top/left side while\n            with `*reversed* `legend.traceorder` they are on\n            bottom/right side. The default legendrank is 1000, so\n            that you can use ranks less than 1000 to place certain\n            items before all unranked items, and ranks greater than\n            1000 to go after all unranked items.\n        legendwidth\n            Sets the width (in px or fraction) of the legend for\n            this trace.\n        marker\n            :class:`plotly.graph_objects.pie.Marker` instance or\n            dict with compatible properties\n        meta\n            Assigns extra meta information associated with this\n            trace that can be used in various text attributes.\n            Attributes such as trace `name`, graph, axis and\n            colorbar `title.text`, annotation `text`\n            `rangeselector`, `updatemenues` and `sliders` `label`\n            text all support `meta`. To access the trace `meta`\n            values in an attribute in the same trace, simply use\n            `%{meta[i]}` where `i` is the index or key of the\n            `meta` item in question. To access trace `meta` in\n            layout attributes, use `%{data[n[.meta[i]}` where `i`\n            is the index or key of the `meta` and `n` is the trace\n            index.\n        metasrc\n            Sets the source reference on Chart Studio Cloud for\n            `meta`.\n        name\n            Sets the trace name. The trace name appear as the\n            legend item and on hover.\n        opacity\n            Sets the opacity of the trace.\n        outsidetextfont\n            Sets the font used for `textinfo` lying outside the\n            sector.\n        pull\n            Sets the fraction of larger radius to pull the sectors\n            out from the center. This can be a constant to pull all\n            slices apart from each other equally or an array to\n            highlight one or more slices.\n        pullsrc\n            Sets the source reference on Chart Studio Cloud for\n            `pull`.\n        rotation\n            Instead of the first slice starting at 12 o'clock,\n            rotate to some other angle.\n        scalegroup\n            If there are multiple pie charts that should be sized\n            according to their totals, link them by providing a\n            non-empty group id here shared by every trace in the\n            same group.\n        showlegend\n            Determines whether or not an item corresponding to this\n            trace is shown in the legend.\n        sort\n            Determines whether or not the sectors are reordered\n            from largest to smallest.\n        stream\n            :class:`plotly.graph_objects.pie.Stream` instance or\n            dict with compatible properties\n        text\n            Sets text elements associated with each sector. If\n            trace `textinfo` contains a \"text\" flag, these elements\n            will be seen on the chart. If trace `hoverinfo`\n            contains a \"text\" flag and \"hovertext\" is not set,\n            these elements will be seen in the hover labels.\n        textfont\n            Sets the font used for `textinfo`.\n        textinfo\n            Determines which trace information appear on the graph.\n        textposition\n            Specifies the location of the `textinfo`.\n        textpositionsrc\n            Sets the source reference on Chart Studio Cloud for\n            `textposition`.\n        textsrc\n            Sets the source reference on Chart Studio Cloud for\n            `text`.\n        texttemplate\n            Template string used for rendering the information text\n            that appear on points. Note that this will override\n            `textinfo`. Variables are inserted using %{variable},\n            for example \"y: %{y}\". Numbers are formatted using\n            d3-format's syntax %{variable:d3-format}, for example\n            \"Price: %{y:$.2f}\".\n            https://github.com/d3/d3-format/tree/v1.4.5#d3-format\n            for details on the formatting syntax. Dates are\n            formatted using d3-time-format's syntax\n            %{variable|d3-time-format}, for example \"Day:\n            %{2019-01-01|%A}\". https://github.com/d3/d3-time-\n            format/tree/v2.2.3#locale_format for details on the\n            date formatting syntax. Every attributes that can be\n            specified per-point (the ones that are `arrayOk: true`)\n            are available. variables `label`, `color`, `value`,\n            `percent` and `text`.\n        texttemplatesrc\n            Sets the source reference on Chart Studio Cloud for\n            `texttemplate`.\n        title\n            :class:`plotly.graph_objects.pie.Title` instance or\n            dict with compatible properties\n        titlefont\n            Deprecated: Please use pie.title.font instead. Sets the\n            font used for `title`. Note that the title's font used\n            to be set by the now deprecated `titlefont` attribute.\n        titleposition\n            Deprecated: Please use pie.title.position instead.\n            Specifies the location of the `title`. Note that the\n            title's position used to be set by the now deprecated\n            `titleposition` attribute.\n        uid\n            Assign an id to this trace, Use this to provide object\n            constancy between traces during animations and\n            transitions.\n        uirevision\n            Controls persistence of some user-driven changes to the\n            trace: `constraintrange` in `parcoords` traces, as well\n            as some `editable: true` modifications such as `name`\n            and `colorbar.title`. Defaults to `layout.uirevision`.\n            Note that other user-driven trace attribute changes are\n            controlled by `layout` attributes: `trace.visible` is\n            controlled by `layout.legend.uirevision`,\n            `selectedpoints` is controlled by\n            `layout.selectionrevision`, and `colorbar.(x|y)`\n            (accessible with `config: {editable: true}`) is\n            controlled by `layout.editrevision`. Trace changes are\n            tracked by `uid`, which only falls back on trace index\n            if no `uid` is provided. So if your app can add/remove\n            traces before the end of the `data` array, such that\n            the same trace has a different index, you can still\n            preserve user-driven changes if you give each trace a\n            `uid` that stays with it as it moves.\n        values\n            Sets the values of the sectors. If omitted, we count\n            occurrences of each label.\n        valuessrc\n            Sets the source reference on Chart Studio Cloud for\n            `values`.\n        visible\n            Determines whether or not this trace is visible. If\n            \"legendonly\", the trace is not drawn, but can appear as\n            a legend item (provided that the legend itself is\n            visible).\n        \nDid you mean \"hole\"?\n\nBad property path:\ncolors\n^^^^^^"
     ]
    }
   ],
   "source": [
    "import plotly.graph_objects as go\n",
    "\n",
    "labels = ['1st choice','Otros']\n",
    "values = [23885,1639]\n",
    "colors = ['rgb(255, 105, 180)','rgb(255, 182, 193)']\n",
    "\n",
    "# Use `hole` to create a donut-like pie chart\n",
    "fig = go.Figure(data=[go.Pie(labels=labels, values=values,hole=.4,)])\n",
    "fig.show()"
   ]
  }
 ],
 "metadata": {
  "kernelspec": {
   "display_name": "Python 3.10.6 64-bit",
   "language": "python",
   "name": "python3"
  },
  "language_info": {
   "codemirror_mode": {
    "name": "ipython",
    "version": 3
   },
   "file_extension": ".py",
   "mimetype": "text/x-python",
   "name": "python",
   "nbconvert_exporter": "python",
   "pygments_lexer": "ipython3",
   "version": "3.10.6"
  },
  "orig_nbformat": 4,
  "vscode": {
   "interpreter": {
    "hash": "aee8b7b246df8f9039afb4144a1f6fd8d2ca17a180786b69acc140d282b71a49"
   }
  }
 },
 "nbformat": 4,
 "nbformat_minor": 2
}
